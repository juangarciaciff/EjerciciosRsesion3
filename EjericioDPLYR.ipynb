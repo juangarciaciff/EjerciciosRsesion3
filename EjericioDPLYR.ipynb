{
 "cells": [
  {
   "cell_type": "markdown",
   "metadata": {},
   "source": [
    "# Ejericio de DPLYR\n",
    "***\n",
    "- Autor: Juan Antonio García Cuevas\n",
    "- Fecha: 02/07/2016\n",
    "***"
   ]
  },
  {
   "cell_type": "markdown",
   "metadata": {},
   "source": [
    "## * Cargamos las librerías dplyr y ggplot2:"
   ]
  },
  {
   "cell_type": "code",
   "execution_count": 67,
   "metadata": {
    "collapsed": false
   },
   "outputs": [],
   "source": [
    "library(dplyr)\n",
    "library(ggplot2)"
   ]
  },
  {
   "cell_type": "markdown",
   "metadata": {},
   "source": [
    "## * Inspeccionamos el dataset diamonds:"
   ]
  },
  {
   "cell_type": "code",
   "execution_count": 68,
   "metadata": {
    "collapsed": false
   },
   "outputs": [
    {
     "data": {
      "text/html": [
       "<table>\n",
       "<thead><tr><th></th><th scope=col>carat</th><th scope=col>cut</th><th scope=col>color</th><th scope=col>clarity</th><th scope=col>depth</th><th scope=col>table</th><th scope=col>price</th><th scope=col>x</th><th scope=col>y</th><th scope=col>z</th></tr></thead>\n",
       "<tbody>\n",
       "\t<tr><th scope=row>1</th><td>0.23</td><td>Ideal</td><td>E</td><td>SI2</td><td>61.5</td><td>55</td><td>326</td><td>3.95</td><td>3.98</td><td>2.43</td></tr>\n",
       "\t<tr><th scope=row>2</th><td>0.21</td><td>Premium</td><td>E</td><td>SI1</td><td>59.8</td><td>61</td><td>326</td><td>3.89</td><td>3.84</td><td>2.31</td></tr>\n",
       "\t<tr><th scope=row>3</th><td>0.23</td><td>Good</td><td>E</td><td>VS1</td><td>56.9</td><td>65</td><td>327</td><td>4.05</td><td>4.07</td><td>2.31</td></tr>\n",
       "\t<tr><th scope=row>4</th><td>0.29</td><td>Premium</td><td>I</td><td>VS2</td><td>62.4</td><td>58</td><td>334</td><td>4.2</td><td>4.23</td><td>2.63</td></tr>\n",
       "\t<tr><th scope=row>5</th><td>0.31</td><td>Good</td><td>J</td><td>SI2</td><td>63.3</td><td>58</td><td>335</td><td>4.34</td><td>4.35</td><td>2.75</td></tr>\n",
       "\t<tr><th scope=row>6</th><td>0.24</td><td>Very Good</td><td>J</td><td>VVS2</td><td>62.8</td><td>57</td><td>336</td><td>3.94</td><td>3.96</td><td>2.48</td></tr>\n",
       "</tbody>\n",
       "</table>\n"
      ],
      "text/latex": [
       "\\begin{tabular}{r|llllllllll}\n",
       "  & carat & cut & color & clarity & depth & table & price & x & y & z\\\\\n",
       "\\hline\n",
       "\t1 & 0.23 & Ideal & E & SI2 & 61.5 & 55 & 326 & 3.95 & 3.98 & 2.43\\\\\n",
       "\t2 & 0.21 & Premium & E & SI1 & 59.8 & 61 & 326 & 3.89 & 3.84 & 2.31\\\\\n",
       "\t3 & 0.23 & Good & E & VS1 & 56.9 & 65 & 327 & 4.05 & 4.07 & 2.31\\\\\n",
       "\t4 & 0.29 & Premium & I & VS2 & 62.4 & 58 & 334 & 4.2 & 4.23 & 2.63\\\\\n",
       "\t5 & 0.31 & Good & J & SI2 & 63.3 & 58 & 335 & 4.34 & 4.35 & 2.75\\\\\n",
       "\t6 & 0.24 & Very Good & J & VVS2 & 62.8 & 57 & 336 & 3.94 & 3.96 & 2.48\\\\\n",
       "\\end{tabular}\n"
      ],
      "text/plain": [
       "  carat       cut color clarity depth table price    x    y    z\n",
       "1  0.23     Ideal     E     SI2  61.5    55   326 3.95 3.98 2.43\n",
       "2  0.21   Premium     E     SI1  59.8    61   326 3.89 3.84 2.31\n",
       "3  0.23      Good     E     VS1  56.9    65   327 4.05 4.07 2.31\n",
       "4  0.29   Premium     I     VS2  62.4    58   334 4.20 4.23 2.63\n",
       "5  0.31      Good     J     SI2  63.3    58   335 4.34 4.35 2.75\n",
       "6  0.24 Very Good     J    VVS2  62.8    57   336 3.94 3.96 2.48"
      ]
     },
     "execution_count": 68,
     "metadata": {},
     "output_type": "execute_result"
    }
   ],
   "source": [
    "head(diamonds)"
   ]
  },
  {
   "cell_type": "markdown",
   "metadata": {},
   "source": [
    "## * Filtramos los diamantes con corte “Ideal”:"
   ]
  },
  {
   "cell_type": "code",
   "execution_count": 69,
   "metadata": {
    "collapsed": false
   },
   "outputs": [
    {
     "data": {
      "text/html": [
       "<table>\n",
       "<thead><tr><th></th><th scope=col>carat</th><th scope=col>cut</th><th scope=col>color</th><th scope=col>clarity</th><th scope=col>depth</th><th scope=col>table</th><th scope=col>price</th><th scope=col>x</th><th scope=col>y</th><th scope=col>z</th></tr></thead>\n",
       "<tbody>\n",
       "\t<tr><th scope=row>1</th><td>0.23</td><td>Ideal</td><td>E</td><td>SI2</td><td>61.5</td><td>55</td><td>326</td><td>3.95</td><td>3.98</td><td>2.43</td></tr>\n",
       "\t<tr><th scope=row>2</th><td>0.23</td><td>Ideal</td><td>J</td><td>VS1</td><td>62.8</td><td>56</td><td>340</td><td>3.93</td><td>3.9</td><td>2.46</td></tr>\n",
       "\t<tr><th scope=row>3</th><td>0.31</td><td>Ideal</td><td>J</td><td>SI2</td><td>62.2</td><td>54</td><td>344</td><td>4.35</td><td>4.37</td><td>2.71</td></tr>\n",
       "\t<tr><th scope=row>4</th><td>0.3</td><td>Ideal</td><td>I</td><td>SI2</td><td>62</td><td>54</td><td>348</td><td>4.31</td><td>4.34</td><td>2.68</td></tr>\n",
       "\t<tr><th scope=row>5</th><td>0.33</td><td>Ideal</td><td>I</td><td>SI2</td><td>61.8</td><td>55</td><td>403</td><td>4.49</td><td>4.51</td><td>2.78</td></tr>\n",
       "\t<tr><th scope=row>6</th><td>0.33</td><td>Ideal</td><td>I</td><td>SI2</td><td>61.2</td><td>56</td><td>403</td><td>4.49</td><td>4.5</td><td>2.75</td></tr>\n",
       "</tbody>\n",
       "</table>\n"
      ],
      "text/latex": [
       "\\begin{tabular}{r|llllllllll}\n",
       "  & carat & cut & color & clarity & depth & table & price & x & y & z\\\\\n",
       "\\hline\n",
       "\t1 & 0.23 & Ideal & E & SI2 & 61.5 & 55 & 326 & 3.95 & 3.98 & 2.43\\\\\n",
       "\t2 & 0.23 & Ideal & J & VS1 & 62.8 & 56 & 340 & 3.93 & 3.9 & 2.46\\\\\n",
       "\t3 & 0.31 & Ideal & J & SI2 & 62.2 & 54 & 344 & 4.35 & 4.37 & 2.71\\\\\n",
       "\t4 & 0.3 & Ideal & I & SI2 & 62 & 54 & 348 & 4.31 & 4.34 & 2.68\\\\\n",
       "\t5 & 0.33 & Ideal & I & SI2 & 61.8 & 55 & 403 & 4.49 & 4.51 & 2.78\\\\\n",
       "\t6 & 0.33 & Ideal & I & SI2 & 61.2 & 56 & 403 & 4.49 & 4.5 & 2.75\\\\\n",
       "\\end{tabular}\n"
      ],
      "text/plain": [
       "  carat   cut color clarity depth table price    x    y    z\n",
       "1  0.23 Ideal     E     SI2  61.5    55   326 3.95 3.98 2.43\n",
       "2  0.23 Ideal     J     VS1  62.8    56   340 3.93 3.90 2.46\n",
       "3  0.31 Ideal     J     SI2  62.2    54   344 4.35 4.37 2.71\n",
       "4  0.30 Ideal     I     SI2  62.0    54   348 4.31 4.34 2.68\n",
       "5  0.33 Ideal     I     SI2  61.8    55   403 4.49 4.51 2.78\n",
       "6  0.33 Ideal     I     SI2  61.2    56   403 4.49 4.50 2.75"
      ]
     },
     "execution_count": 69,
     "metadata": {},
     "output_type": "execute_result"
    }
   ],
   "source": [
    "diamondsWork <- filter(diamonds, cut == \"Ideal\")\n",
    "head(diamondsWork)"
   ]
  },
  {
   "cell_type": "markdown",
   "metadata": {},
   "source": [
    "## * Seleccionamos las columnas carat, cut, color, price y clarity:"
   ]
  },
  {
   "cell_type": "code",
   "execution_count": 70,
   "metadata": {
    "collapsed": false
   },
   "outputs": [
    {
     "data": {
      "text/html": [
       "<table>\n",
       "<thead><tr><th></th><th scope=col>carat</th><th scope=col>cut</th><th scope=col>color</th><th scope=col>price</th><th scope=col>clarity</th></tr></thead>\n",
       "<tbody>\n",
       "\t<tr><th scope=row>1</th><td>0.23</td><td>Ideal</td><td>E</td><td>326</td><td>SI2</td></tr>\n",
       "\t<tr><th scope=row>2</th><td>0.23</td><td>Ideal</td><td>J</td><td>340</td><td>VS1</td></tr>\n",
       "\t<tr><th scope=row>3</th><td>0.31</td><td>Ideal</td><td>J</td><td>344</td><td>SI2</td></tr>\n",
       "\t<tr><th scope=row>4</th><td>0.3</td><td>Ideal</td><td>I</td><td>348</td><td>SI2</td></tr>\n",
       "\t<tr><th scope=row>5</th><td>0.33</td><td>Ideal</td><td>I</td><td>403</td><td>SI2</td></tr>\n",
       "\t<tr><th scope=row>6</th><td>0.33</td><td>Ideal</td><td>I</td><td>403</td><td>SI2</td></tr>\n",
       "</tbody>\n",
       "</table>\n"
      ],
      "text/latex": [
       "\\begin{tabular}{r|lllll}\n",
       "  & carat & cut & color & price & clarity\\\\\n",
       "\\hline\n",
       "\t1 & 0.23 & Ideal & E & 326 & SI2\\\\\n",
       "\t2 & 0.23 & Ideal & J & 340 & VS1\\\\\n",
       "\t3 & 0.31 & Ideal & J & 344 & SI2\\\\\n",
       "\t4 & 0.3 & Ideal & I & 348 & SI2\\\\\n",
       "\t5 & 0.33 & Ideal & I & 403 & SI2\\\\\n",
       "\t6 & 0.33 & Ideal & I & 403 & SI2\\\\\n",
       "\\end{tabular}\n"
      ],
      "text/plain": [
       "  carat   cut color price clarity\n",
       "1  0.23 Ideal     E   326     SI2\n",
       "2  0.23 Ideal     J   340     VS1\n",
       "3  0.31 Ideal     J   344     SI2\n",
       "4  0.30 Ideal     I   348     SI2\n",
       "5  0.33 Ideal     I   403     SI2\n",
       "6  0.33 Ideal     I   403     SI2"
      ]
     },
     "execution_count": 70,
     "metadata": {},
     "output_type": "execute_result"
    }
   ],
   "source": [
    "diamondsWork <- select(diamondsWork, carat, cut, color, price, clarity)\n",
    "head(diamondsWork)"
   ]
  },
  {
   "cell_type": "markdown",
   "metadata": {},
   "source": [
    "## * Creamos una nueva columna precio/quilate:"
   ]
  },
  {
   "cell_type": "code",
   "execution_count": 71,
   "metadata": {
    "collapsed": false
   },
   "outputs": [
    {
     "data": {
      "text/html": [
       "<table>\n",
       "<thead><tr><th></th><th scope=col>carat</th><th scope=col>cut</th><th scope=col>color</th><th scope=col>price</th><th scope=col>clarity</th><th scope=col>caretprice</th></tr></thead>\n",
       "<tbody>\n",
       "\t<tr><th scope=row>1</th><td>0.23</td><td>Ideal</td><td>E</td><td>326</td><td>SI2</td><td>1417.391</td></tr>\n",
       "\t<tr><th scope=row>2</th><td>0.23</td><td>Ideal</td><td>J</td><td>340</td><td>VS1</td><td>1478.261</td></tr>\n",
       "\t<tr><th scope=row>3</th><td>0.31</td><td>Ideal</td><td>J</td><td>344</td><td>SI2</td><td>1109.677</td></tr>\n",
       "\t<tr><th scope=row>4</th><td>0.3</td><td>Ideal</td><td>I</td><td>348</td><td>SI2</td><td>1160</td></tr>\n",
       "\t<tr><th scope=row>5</th><td>0.33</td><td>Ideal</td><td>I</td><td>403</td><td>SI2</td><td>1221.212</td></tr>\n",
       "\t<tr><th scope=row>6</th><td>0.33</td><td>Ideal</td><td>I</td><td>403</td><td>SI2</td><td>1221.212</td></tr>\n",
       "</tbody>\n",
       "</table>\n"
      ],
      "text/latex": [
       "\\begin{tabular}{r|llllll}\n",
       "  & carat & cut & color & price & clarity & caretprice\\\\\n",
       "\\hline\n",
       "\t1 & 0.23 & Ideal & E & 326 & SI2 & 1417.391\\\\\n",
       "\t2 & 0.23 & Ideal & J & 340 & VS1 & 1478.261\\\\\n",
       "\t3 & 0.31 & Ideal & J & 344 & SI2 & 1109.677\\\\\n",
       "\t4 & 0.3 & Ideal & I & 348 & SI2 & 1160\\\\\n",
       "\t5 & 0.33 & Ideal & I & 403 & SI2 & 1221.212\\\\\n",
       "\t6 & 0.33 & Ideal & I & 403 & SI2 & 1221.212\\\\\n",
       "\\end{tabular}\n"
      ],
      "text/plain": [
       "  carat   cut color price clarity caretprice\n",
       "1  0.23 Ideal     E   326     SI2   1417.391\n",
       "2  0.23 Ideal     J   340     VS1   1478.261\n",
       "3  0.31 Ideal     J   344     SI2   1109.677\n",
       "4  0.30 Ideal     I   348     SI2   1160.000\n",
       "5  0.33 Ideal     I   403     SI2   1221.212\n",
       "6  0.33 Ideal     I   403     SI2   1221.212"
      ]
     },
     "execution_count": 71,
     "metadata": {},
     "output_type": "execute_result"
    }
   ],
   "source": [
    "diamondsWork <- mutate(diamondsWork, caretprice = price/carat)\n",
    "head(diamondsWork)"
   ]
  },
  {
   "cell_type": "markdown",
   "metadata": {},
   "source": [
    "## * Agrupamos los diamantes por color:"
   ]
  },
  {
   "cell_type": "code",
   "execution_count": 72,
   "metadata": {
    "collapsed": false
   },
   "outputs": [
    {
     "data": {
      "text/html": [
       "<table>\n",
       "<thead><tr><th></th><th scope=col>carat</th><th scope=col>cut</th><th scope=col>color</th><th scope=col>price</th><th scope=col>clarity</th><th scope=col>caretprice</th></tr></thead>\n",
       "<tbody>\n",
       "\t<tr><th scope=row>1</th><td>0.23</td><td>Ideal</td><td>E</td><td>326</td><td>SI2</td><td>1417.391</td></tr>\n",
       "\t<tr><th scope=row>2</th><td>0.23</td><td>Ideal</td><td>J</td><td>340</td><td>VS1</td><td>1478.261</td></tr>\n",
       "\t<tr><th scope=row>3</th><td>0.31</td><td>Ideal</td><td>J</td><td>344</td><td>SI2</td><td>1109.677</td></tr>\n",
       "\t<tr><th scope=row>4</th><td>0.3</td><td>Ideal</td><td>I</td><td>348</td><td>SI2</td><td>1160</td></tr>\n",
       "\t<tr><th scope=row>5</th><td>0.33</td><td>Ideal</td><td>I</td><td>403</td><td>SI2</td><td>1221.212</td></tr>\n",
       "\t<tr><th scope=row>6</th><td>0.33</td><td>Ideal</td><td>I</td><td>403</td><td>SI2</td><td>1221.212</td></tr>\n",
       "</tbody>\n",
       "</table>\n"
      ],
      "text/latex": [
       "\\begin{tabular}{r|llllll}\n",
       "  & carat & cut & color & price & clarity & caretprice\\\\\n",
       "\\hline\n",
       "\t1 & 0.23 & Ideal & E & 326 & SI2 & 1417.391\\\\\n",
       "\t2 & 0.23 & Ideal & J & 340 & VS1 & 1478.261\\\\\n",
       "\t3 & 0.31 & Ideal & J & 344 & SI2 & 1109.677\\\\\n",
       "\t4 & 0.3 & Ideal & I & 348 & SI2 & 1160\\\\\n",
       "\t5 & 0.33 & Ideal & I & 403 & SI2 & 1221.212\\\\\n",
       "\t6 & 0.33 & Ideal & I & 403 & SI2 & 1221.212\\\\\n",
       "\\end{tabular}\n"
      ],
      "text/plain": [
       "Source: local data frame [6 x 6]\n",
       "Groups: color [3]\n",
       "\n",
       "  carat    cut  color price clarity caretprice\n",
       "  (dbl) (fctr) (fctr) (int)  (fctr)      (dbl)\n",
       "1  0.23  Ideal      E   326     SI2   1417.391\n",
       "2  0.23  Ideal      J   340     VS1   1478.261\n",
       "3  0.31  Ideal      J   344     SI2   1109.677\n",
       "4  0.30  Ideal      I   348     SI2   1160.000\n",
       "5  0.33  Ideal      I   403     SI2   1221.212\n",
       "6  0.33  Ideal      I   403     SI2   1221.212"
      ]
     },
     "execution_count": 72,
     "metadata": {},
     "output_type": "execute_result"
    },
    {
     "data": {
      "text/html": [
       "<table>\n",
       "<thead><tr><th></th><th scope=col>color</th><th scope=col>max(price)</th></tr></thead>\n",
       "<tbody>\n",
       "\t<tr><th scope=row>1</th><td>D</td><td>18693</td></tr>\n",
       "\t<tr><th scope=row>2</th><td>E</td><td>18729</td></tr>\n",
       "\t<tr><th scope=row>3</th><td>F</td><td>18780</td></tr>\n",
       "\t<tr><th scope=row>4</th><td>G</td><td>18806</td></tr>\n",
       "\t<tr><th scope=row>5</th><td>H</td><td>18760</td></tr>\n",
       "\t<tr><th scope=row>6</th><td>I</td><td>18779</td></tr>\n",
       "\t<tr><th scope=row>7</th><td>J</td><td>18508</td></tr>\n",
       "</tbody>\n",
       "</table>\n"
      ],
      "text/latex": [
       "\\begin{tabular}{r|ll}\n",
       "  & color & max(price)\\\\\n",
       "\\hline\n",
       "\t1 & D & 18693\\\\\n",
       "\t2 & E & 18729\\\\\n",
       "\t3 & F & 18780\\\\\n",
       "\t4 & G & 18806\\\\\n",
       "\t5 & H & 18760\\\\\n",
       "\t6 & I & 18779\\\\\n",
       "\t7 & J & 18508\\\\\n",
       "\\end{tabular}\n"
      ],
      "text/plain": [
       "Source: local data frame [7 x 2]\n",
       "\n",
       "   color max(price)\n",
       "  (fctr)      (int)\n",
       "1      D      18693\n",
       "2      E      18729\n",
       "3      F      18780\n",
       "4      G      18806\n",
       "5      H      18760\n",
       "6      I      18779\n",
       "7      J      18508"
      ]
     },
     "execution_count": 72,
     "metadata": {},
     "output_type": "execute_result"
    }
   ],
   "source": [
    "diamondsWork <- group_by(diamondsWork, color)\n",
    "head(diamondsWork)\n",
    "summarise(diamondsWork, max(price))"
   ]
  },
  {
   "cell_type": "markdown",
   "metadata": {},
   "source": [
    "## * Calculamos la media del precio/quilate para cada uno de los grupos anteriores:"
   ]
  },
  {
   "cell_type": "code",
   "execution_count": 73,
   "metadata": {
    "collapsed": false
   },
   "outputs": [
    {
     "data": {
      "text/html": [
       "<table>\n",
       "<thead><tr><th></th><th scope=col>carat</th><th scope=col>cut</th><th scope=col>color</th><th scope=col>price</th><th scope=col>clarity</th><th scope=col>caretprice</th></tr></thead>\n",
       "<tbody>\n",
       "\t<tr><th scope=row>1</th><td>0.23</td><td>Ideal</td><td>E</td><td>326</td><td>SI2</td><td>1417.391</td></tr>\n",
       "\t<tr><th scope=row>2</th><td>0.23</td><td>Ideal</td><td>J</td><td>340</td><td>VS1</td><td>1478.261</td></tr>\n",
       "\t<tr><th scope=row>3</th><td>0.31</td><td>Ideal</td><td>J</td><td>344</td><td>SI2</td><td>1109.677</td></tr>\n",
       "\t<tr><th scope=row>4</th><td>0.3</td><td>Ideal</td><td>I</td><td>348</td><td>SI2</td><td>1160</td></tr>\n",
       "\t<tr><th scope=row>5</th><td>0.33</td><td>Ideal</td><td>I</td><td>403</td><td>SI2</td><td>1221.212</td></tr>\n",
       "\t<tr><th scope=row>6</th><td>0.33</td><td>Ideal</td><td>I</td><td>403</td><td>SI2</td><td>1221.212</td></tr>\n",
       "</tbody>\n",
       "</table>\n"
      ],
      "text/latex": [
       "\\begin{tabular}{r|llllll}\n",
       "  & carat & cut & color & price & clarity & caretprice\\\\\n",
       "\\hline\n",
       "\t1 & 0.23 & Ideal & E & 326 & SI2 & 1417.391\\\\\n",
       "\t2 & 0.23 & Ideal & J & 340 & VS1 & 1478.261\\\\\n",
       "\t3 & 0.31 & Ideal & J & 344 & SI2 & 1109.677\\\\\n",
       "\t4 & 0.3 & Ideal & I & 348 & SI2 & 1160\\\\\n",
       "\t5 & 0.33 & Ideal & I & 403 & SI2 & 1221.212\\\\\n",
       "\t6 & 0.33 & Ideal & I & 403 & SI2 & 1221.212\\\\\n",
       "\\end{tabular}\n"
      ],
      "text/plain": [
       "Source: local data frame [6 x 6]\n",
       "Groups: color [3]\n",
       "\n",
       "  carat    cut  color price clarity caretprice\n",
       "  (dbl) (fctr) (fctr) (int)  (fctr)      (dbl)\n",
       "1  0.23  Ideal      E   326     SI2   1417.391\n",
       "2  0.23  Ideal      J   340     VS1   1478.261\n",
       "3  0.31  Ideal      J   344     SI2   1109.677\n",
       "4  0.30  Ideal      I   348     SI2   1160.000\n",
       "5  0.33  Ideal      I   403     SI2   1221.212\n",
       "6  0.33  Ideal      I   403     SI2   1221.212"
      ]
     },
     "execution_count": 73,
     "metadata": {},
     "output_type": "execute_result"
    },
    {
     "data": {
      "text/html": [
       "<table>\n",
       "<thead><tr><th></th><th scope=col>color</th><th scope=col>max(caretprice)</th></tr></thead>\n",
       "<tbody>\n",
       "\t<tr><th scope=row>1</th><td>D</td><td>17077.67</td></tr>\n",
       "\t<tr><th scope=row>2</th><td>E</td><td>14609.38</td></tr>\n",
       "\t<tr><th scope=row>3</th><td>F</td><td>13860.9</td></tr>\n",
       "\t<tr><th scope=row>4</th><td>G</td><td>12454.3</td></tr>\n",
       "\t<tr><th scope=row>5</th><td>H</td><td>10187.5</td></tr>\n",
       "\t<tr><th scope=row>6</th><td>I</td><td>9116.019</td></tr>\n",
       "\t<tr><th scope=row>7</th><td>J</td><td>8647.115</td></tr>\n",
       "</tbody>\n",
       "</table>\n"
      ],
      "text/latex": [
       "\\begin{tabular}{r|ll}\n",
       "  & color & max(caretprice)\\\\\n",
       "\\hline\n",
       "\t1 & D & 17077.67\\\\\n",
       "\t2 & E & 14609.38\\\\\n",
       "\t3 & F & 13860.9\\\\\n",
       "\t4 & G & 12454.3\\\\\n",
       "\t5 & H & 10187.5\\\\\n",
       "\t6 & I & 9116.019\\\\\n",
       "\t7 & J & 8647.115\\\\\n",
       "\\end{tabular}\n"
      ],
      "text/plain": [
       "Source: local data frame [7 x 2]\n",
       "\n",
       "   color max(caretprice)\n",
       "  (fctr)           (dbl)\n",
       "1      D       17077.670\n",
       "2      E       14609.375\n",
       "3      F       13860.902\n",
       "4      G       12454.305\n",
       "5      H       10187.500\n",
       "6      I        9116.019\n",
       "7      J        8647.115"
      ]
     },
     "execution_count": 73,
     "metadata": {},
     "output_type": "execute_result"
    }
   ],
   "source": [
    "diamondsWork <- group_by(diamondsWork, color)\n",
    "head(diamondsWork)\n",
    "summarise(diamondsWork, max(caretprice))"
   ]
  },
  {
   "cell_type": "markdown",
   "metadata": {},
   "source": [
    "## * Ordenamos por precio/quilate de forma descendente:"
   ]
  },
  {
   "cell_type": "code",
   "execution_count": 74,
   "metadata": {
    "collapsed": false
   },
   "outputs": [
    {
     "data": {
      "text/html": [
       "<table>\n",
       "<thead><tr><th></th><th scope=col>color</th><th scope=col>med</th></tr></thead>\n",
       "<tbody>\n",
       "\t<tr><th scope=row>1</th><td>G</td><td>4163.999</td></tr>\n",
       "\t<tr><th scope=row>2</th><td>F</td><td>4097.519</td></tr>\n",
       "\t<tr><th scope=row>3</th><td>H</td><td>3846.066</td></tr>\n",
       "\t<tr><th scope=row>4</th><td>I</td><td>3808.071</td></tr>\n",
       "\t<tr><th scope=row>5</th><td>D</td><td>3806.532</td></tr>\n",
       "\t<tr><th scope=row>6</th><td>J</td><td>3733.766</td></tr>\n",
       "\t<tr><th scope=row>7</th><td>E</td><td>3683.172</td></tr>\n",
       "</tbody>\n",
       "</table>\n"
      ],
      "text/latex": [
       "\\begin{tabular}{r|ll}\n",
       "  & color & med\\\\\n",
       "\\hline\n",
       "\t1 & G & 4163.999\\\\\n",
       "\t2 & F & 4097.519\\\\\n",
       "\t3 & H & 3846.066\\\\\n",
       "\t4 & I & 3808.071\\\\\n",
       "\t5 & D & 3806.532\\\\\n",
       "\t6 & J & 3733.766\\\\\n",
       "\t7 & E & 3683.172\\\\\n",
       "\\end{tabular}\n"
      ],
      "text/plain": [
       "Source: local data frame [7 x 2]\n",
       "\n",
       "   color      med\n",
       "  (fctr)    (dbl)\n",
       "1      G 4163.999\n",
       "2      F 4097.519\n",
       "3      H 3846.066\n",
       "4      I 3808.071\n",
       "5      D 3806.532\n",
       "6      J 3733.766\n",
       "7      E 3683.172"
      ]
     },
     "execution_count": 74,
     "metadata": {},
     "output_type": "execute_result"
    }
   ],
   "source": [
    "diamondsWork <- diamondsWork %>% group_by(color) %>% summarise(med = mean(caretprice)) %>% arrange(desc(med))\n",
    "diamondsWork"
   ]
  }
 ],
 "metadata": {
  "kernelspec": {
   "display_name": "R",
   "language": "R",
   "name": "ir"
  },
  "language_info": {
   "codemirror_mode": "r",
   "file_extension": ".r",
   "mimetype": "text/x-r-source",
   "name": "R",
   "pygments_lexer": "r",
   "version": "3.2.2"
  }
 },
 "nbformat": 4,
 "nbformat_minor": 0
}
