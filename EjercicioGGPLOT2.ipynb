{
 "cells": [
  {
   "cell_type": "markdown",
   "metadata": {},
   "source": [
    "# Ejercicio de QQPLOT2\n",
    "***\n",
    "- Autor: Juan Antonio García Cuevas\n",
    "- Fecha: 02/07/2016\n",
    "***"
   ]
  },
  {
   "cell_type": "markdown",
   "metadata": {},
   "source": [
    "## * Cargamos la librería ggplot2"
   ]
  },
  {
   "cell_type": "code",
   "execution_count": 107,
   "metadata": {
    "collapsed": true
   },
   "outputs": [],
   "source": [
    "library(ggplot2)"
   ]
  },
  {
   "cell_type": "markdown",
   "metadata": {},
   "source": [
    "## * Inspeccionamos el dataset diamonds"
   ]
  },
  {
   "cell_type": "code",
   "execution_count": 108,
   "metadata": {
    "collapsed": false
   },
   "outputs": [
    {
     "data": {
      "text/html": [
       "<table>\n",
       "<thead><tr><th></th><th scope=col>carat</th><th scope=col>cut</th><th scope=col>color</th><th scope=col>clarity</th><th scope=col>depth</th><th scope=col>table</th><th scope=col>price</th><th scope=col>x</th><th scope=col>y</th><th scope=col>z</th></tr></thead>\n",
       "<tbody>\n",
       "\t<tr><th scope=row>1</th><td>0.23</td><td>Ideal</td><td>E</td><td>SI2</td><td>61.5</td><td>55</td><td>326</td><td>3.95</td><td>3.98</td><td>2.43</td></tr>\n",
       "\t<tr><th scope=row>2</th><td>0.21</td><td>Premium</td><td>E</td><td>SI1</td><td>59.8</td><td>61</td><td>326</td><td>3.89</td><td>3.84</td><td>2.31</td></tr>\n",
       "\t<tr><th scope=row>3</th><td>0.23</td><td>Good</td><td>E</td><td>VS1</td><td>56.9</td><td>65</td><td>327</td><td>4.05</td><td>4.07</td><td>2.31</td></tr>\n",
       "\t<tr><th scope=row>4</th><td>0.29</td><td>Premium</td><td>I</td><td>VS2</td><td>62.4</td><td>58</td><td>334</td><td>4.2</td><td>4.23</td><td>2.63</td></tr>\n",
       "\t<tr><th scope=row>5</th><td>0.31</td><td>Good</td><td>J</td><td>SI2</td><td>63.3</td><td>58</td><td>335</td><td>4.34</td><td>4.35</td><td>2.75</td></tr>\n",
       "\t<tr><th scope=row>6</th><td>0.24</td><td>Very Good</td><td>J</td><td>VVS2</td><td>62.8</td><td>57</td><td>336</td><td>3.94</td><td>3.96</td><td>2.48</td></tr>\n",
       "</tbody>\n",
       "</table>\n"
      ],
      "text/latex": [
       "\\begin{tabular}{r|llllllllll}\n",
       "  & carat & cut & color & clarity & depth & table & price & x & y & z\\\\\n",
       "\\hline\n",
       "\t1 & 0.23 & Ideal & E & SI2 & 61.5 & 55 & 326 & 3.95 & 3.98 & 2.43\\\\\n",
       "\t2 & 0.21 & Premium & E & SI1 & 59.8 & 61 & 326 & 3.89 & 3.84 & 2.31\\\\\n",
       "\t3 & 0.23 & Good & E & VS1 & 56.9 & 65 & 327 & 4.05 & 4.07 & 2.31\\\\\n",
       "\t4 & 0.29 & Premium & I & VS2 & 62.4 & 58 & 334 & 4.2 & 4.23 & 2.63\\\\\n",
       "\t5 & 0.31 & Good & J & SI2 & 63.3 & 58 & 335 & 4.34 & 4.35 & 2.75\\\\\n",
       "\t6 & 0.24 & Very Good & J & VVS2 & 62.8 & 57 & 336 & 3.94 & 3.96 & 2.48\\\\\n",
       "\\end{tabular}\n"
      ],
      "text/plain": [
       "  carat       cut color clarity depth table price    x    y    z\n",
       "1  0.23     Ideal     E     SI2  61.5    55   326 3.95 3.98 2.43\n",
       "2  0.21   Premium     E     SI1  59.8    61   326 3.89 3.84 2.31\n",
       "3  0.23      Good     E     VS1  56.9    65   327 4.05 4.07 2.31\n",
       "4  0.29   Premium     I     VS2  62.4    58   334 4.20 4.23 2.63\n",
       "5  0.31      Good     J     SI2  63.3    58   335 4.34 4.35 2.75\n",
       "6  0.24 Very Good     J    VVS2  62.8    57   336 3.94 3.96 2.48"
      ]
     },
     "execution_count": 108,
     "metadata": {},
     "output_type": "execute_result"
    }
   ],
   "source": [
    "head(diamonds)"
   ]
  },
  {
   "cell_type": "markdown",
   "metadata": {},
   "source": [
    "## * Generamos una muestra aleatoria del 100 filas del dataset diamonds"
   ]
  },
  {
   "cell_type": "code",
   "execution_count": 109,
   "metadata": {
    "collapsed": false
   },
   "outputs": [
    {
     "data": {
      "text/html": [
       "<ol class=list-inline>\n",
       "\t<li>47479</li>\n",
       "\t<li>22055</li>\n",
       "\t<li>43849</li>\n",
       "\t<li>49973</li>\n",
       "\t<li>31968</li>\n",
       "\t<li>42572</li>\n",
       "</ol>\n"
      ],
      "text/latex": [
       "\\begin{enumerate*}\n",
       "\\item 47479\n",
       "\\item 22055\n",
       "\\item 43849\n",
       "\\item 49973\n",
       "\\item 31968\n",
       "\\item 42572\n",
       "\\end{enumerate*}\n"
      ],
      "text/markdown": [
       "1. 47479\n",
       "2. 22055\n",
       "3. 43849\n",
       "4. 49973\n",
       "5. 31968\n",
       "6. 42572\n",
       "\n",
       "\n"
      ],
      "text/plain": [
       "[1] 47479 22055 43849 49973 31968 42572"
      ]
     },
     "execution_count": 109,
     "metadata": {},
     "output_type": "execute_result"
    },
    {
     "data": {
      "text/html": [
       "100"
      ],
      "text/latex": [
       "100"
      ],
      "text/markdown": [
       "100"
      ],
      "text/plain": [
       "[1] 100"
      ]
     },
     "execution_count": 109,
     "metadata": {},
     "output_type": "execute_result"
    }
   ],
   "source": [
    "numlist100 <- sample(1:length(diamonds[[1]]), 100)\n",
    "head(numlist100)\n",
    "length(numlist100)"
   ]
  },
  {
   "cell_type": "code",
   "execution_count": 110,
   "metadata": {
    "collapsed": false
   },
   "outputs": [
    {
     "data": {
      "text/html": [
       "<table>\n",
       "<thead><tr><th></th><th scope=col>carat</th><th scope=col>cut</th><th scope=col>color</th><th scope=col>clarity</th><th scope=col>depth</th><th scope=col>table</th><th scope=col>price</th><th scope=col>x</th><th scope=col>y</th><th scope=col>z</th></tr></thead>\n",
       "<tbody>\n",
       "\t<tr><th scope=row>47479</th><td>0.6</td><td>Ideal</td><td>G</td><td>VS2</td><td>60.4</td><td>57</td><td>1861</td><td>5.49</td><td>5.51</td><td>3.32</td></tr>\n",
       "\t<tr><th scope=row>22055</th><td>1.21</td><td>Premium</td><td>D</td><td>VS1</td><td>60.2</td><td>59</td><td>10083</td><td>6.89</td><td>6.86</td><td>4.14</td></tr>\n",
       "\t<tr><th scope=row>43849</th><td>0.5</td><td>Good</td><td>F</td><td>VS2</td><td>62.8</td><td>61</td><td>1447</td><td>4.94</td><td>5</td><td>3.12</td></tr>\n",
       "\t<tr><th scope=row>49973</th><td>0.29</td><td>Very Good</td><td>H</td><td>VVS2</td><td>61.7</td><td>55</td><td>541</td><td>4.27</td><td>4.3</td><td>2.64</td></tr>\n",
       "\t<tr><th scope=row>31968</th><td>0.26</td><td>Premium</td><td>F</td><td>VS1</td><td>59.5</td><td>58</td><td>452</td><td>4.18</td><td>4.22</td><td>2.5</td></tr>\n",
       "\t<tr><th scope=row>42572</th><td>0.38</td><td>Premium</td><td>E</td><td>VVS1</td><td>61.9</td><td>58</td><td>1327</td><td>4.66</td><td>4.62</td><td>2.87</td></tr>\n",
       "</tbody>\n",
       "</table>\n"
      ],
      "text/latex": [
       "\\begin{tabular}{r|llllllllll}\n",
       "  & carat & cut & color & clarity & depth & table & price & x & y & z\\\\\n",
       "\\hline\n",
       "\t47479 & 0.6 & Ideal & G & VS2 & 60.4 & 57 & 1861 & 5.49 & 5.51 & 3.32\\\\\n",
       "\t22055 & 1.21 & Premium & D & VS1 & 60.2 & 59 & 10083 & 6.89 & 6.86 & 4.14\\\\\n",
       "\t43849 & 0.5 & Good & F & VS2 & 62.8 & 61 & 1447 & 4.94 & 5 & 3.12\\\\\n",
       "\t49973 & 0.29 & Very Good & H & VVS2 & 61.7 & 55 & 541 & 4.27 & 4.3 & 2.64\\\\\n",
       "\t31968 & 0.26 & Premium & F & VS1 & 59.5 & 58 & 452 & 4.18 & 4.22 & 2.5\\\\\n",
       "\t42572 & 0.38 & Premium & E & VVS1 & 61.9 & 58 & 1327 & 4.66 & 4.62 & 2.87\\\\\n",
       "\\end{tabular}\n"
      ],
      "text/plain": [
       "      carat       cut color clarity depth table price    x    y    z\n",
       "47479  0.60     Ideal     G     VS2  60.4    57  1861 5.49 5.51 3.32\n",
       "22055  1.21   Premium     D     VS1  60.2    59 10083 6.89 6.86 4.14\n",
       "43849  0.50      Good     F     VS2  62.8    61  1447 4.94 5.00 3.12\n",
       "49973  0.29 Very Good     H    VVS2  61.7    55   541 4.27 4.30 2.64\n",
       "31968  0.26   Premium     F     VS1  59.5    58   452 4.18 4.22 2.50\n",
       "42572  0.38   Premium     E    VVS1  61.9    58  1327 4.66 4.62 2.87"
      ]
     },
     "execution_count": 110,
     "metadata": {},
     "output_type": "execute_result"
    },
    {
     "data": {
      "text/html": [
       "<ol class=list-inline>\n",
       "\t<li>53940</li>\n",
       "\t<li>10</li>\n",
       "</ol>\n"
      ],
      "text/latex": [
       "\\begin{enumerate*}\n",
       "\\item 53940\n",
       "\\item 10\n",
       "\\end{enumerate*}\n"
      ],
      "text/markdown": [
       "1. 53940\n",
       "2. 10\n",
       "\n",
       "\n"
      ],
      "text/plain": [
       "[1] 53940    10"
      ]
     },
     "execution_count": 110,
     "metadata": {},
     "output_type": "execute_result"
    }
   ],
   "source": [
    "subset100diamonds <- diamonds[numlist100, ]\n",
    "head(subset100diamonds)\n",
    "dim(diamonds)"
   ]
  },
  {
   "cell_type": "markdown",
   "metadata": {},
   "source": [
    "## * Obtenemos los límites de los ejes para cuadrar la gráfica"
   ]
  },
  {
   "cell_type": "code",
   "execution_count": 111,
   "metadata": {
    "collapsed": false
   },
   "outputs": [
    {
     "data": {
      "text/html": [
       "0.23"
      ],
      "text/latex": [
       "0.23"
      ],
      "text/markdown": [
       "0.23"
      ],
      "text/plain": [
       "[1] 0.23"
      ]
     },
     "execution_count": 111,
     "metadata": {},
     "output_type": "execute_result"
    },
    {
     "data": {
      "text/html": [
       "2.4"
      ],
      "text/latex": [
       "2.4"
      ],
      "text/markdown": [
       "2.4"
      ],
      "text/plain": [
       "[1] 2.4"
      ]
     },
     "execution_count": 111,
     "metadata": {},
     "output_type": "execute_result"
    },
    {
     "data": {
      "text/html": [
       "378"
      ],
      "text/latex": [
       "378"
      ],
      "text/markdown": [
       "378"
      ],
      "text/plain": [
       "[1] 378"
      ]
     },
     "execution_count": 111,
     "metadata": {},
     "output_type": "execute_result"
    },
    {
     "data": {
      "text/html": [
       "18648"
      ],
      "text/latex": [
       "18648"
      ],
      "text/markdown": [
       "18648"
      ],
      "text/plain": [
       "[1] 18648"
      ]
     },
     "execution_count": 111,
     "metadata": {},
     "output_type": "execute_result"
    }
   ],
   "source": [
    "caremin <- min(subset100diamonds[1])\n",
    "caremax <- max(subset100diamonds[1])\n",
    "pricemin <- min(subset100diamonds[7])\n",
    "pricemax <- max(subset100diamonds[7])\n",
    "caremin\n",
    "caremax\n",
    "pricemin\n",
    "pricemax"
   ]
  },
  {
   "cell_type": "markdown",
   "metadata": {},
   "source": [
    "## * Generamos la gráfica"
   ]
  },
  {
   "cell_type": "code",
   "execution_count": 112,
   "metadata": {
    "collapsed": true
   },
   "outputs": [],
   "source": [
    "grafica <- ggplot(subset100diamonds, aes(x=carat, y=price, color=color))"
   ]
  },
  {
   "cell_type": "code",
   "execution_count": 113,
   "metadata": {
    "collapsed": false
   },
   "outputs": [
    {
     "name": "stderr",
     "output_type": "stream",
     "text": [
      "Warning message:\n",
      ": Removed 4 rows containing missing values (geom_path)."
     ]
    },
    {
     "data": {
      "image/png": "[encoded data removed]",
      "image/svg+xml": [
       "<?xml version=\"1.0\" encoding=\"UTF-8\"?>\n",
       "<svg xmlns=\"http://www.w3.org/2000/svg\" xmlns:xlink=\"http://www.w3.org/1999/xlink\" width=\"504pt\" height=\"504pt\" viewBox=\"0 0 504 504\" version=\"1.1\">\n",
       "<defs>\n",
       "<g>\n",
       "<symbol overflow=\"visible\" id=\"glyph0-0\">\n",
       "<path style=\"stroke:none;\" d=\"\"/>\n",
       "</symbol>\n",
       "<symbol overflow=\"visible\" id=\"glyph0-1\">\n",
       "<path style=\"stroke:none;\" d=\"M 2.640625 -6.796875 C 2 -6.796875 1.421875 -6.53125 1.078125 -6.046875 C 0.640625 -5.453125 0.40625 -4.546875 0.40625 -3.296875 C 0.40625 -1 1.1875 0.21875 2.640625 0.21875 C 4.078125 0.21875 4.859375 -1 4.859375 -3.234375 C 4.859375 -4.5625 4.65625 -5.4375 4.203125 -6.046875 C 3.84375 -6.53125 3.28125 -6.796875 2.640625 -6.796875 Z M 2.640625 -6.046875 C 3.546875 -6.046875 4 -5.125 4 -3.3125 C 4 -1.375 3.5625 -0.484375 2.625 -0.484375 C 1.734375 -0.484375 1.28125 -1.421875 1.28125 -3.28125 C 1.28125 -5.140625 1.734375 -6.046875 2.640625 -6.046875 Z \"/>\n",
       "</symbol>\n",
       "<symbol overflow=\"visible\" id=\"glyph0-2\">\n",
       "<path style=\"stroke:none;\" d=\"M 4.5625 -6.796875 L 1.0625 -6.796875 L 0.546875 -3.09375 L 1.328125 -3.09375 C 1.71875 -3.5625 2.046875 -3.734375 2.578125 -3.734375 C 3.484375 -3.734375 4.0625 -3.109375 4.0625 -2.09375 C 4.0625 -1.125 3.484375 -0.53125 2.578125 -0.53125 C 1.828125 -0.53125 1.375 -0.90625 1.1875 -1.671875 L 0.328125 -1.671875 C 0.453125 -1.109375 0.546875 -0.84375 0.75 -0.59375 C 1.125 -0.078125 1.828125 0.21875 2.59375 0.21875 C 3.96875 0.21875 4.921875 -0.78125 4.921875 -2.21875 C 4.921875 -3.5625 4.03125 -4.484375 2.71875 -4.484375 C 2.25 -4.484375 1.859375 -4.359375 1.46875 -4.0625 L 1.734375 -5.96875 L 4.5625 -5.96875 Z \"/>\n",
       "</symbol>\n",
       "<symbol overflow=\"visible\" id=\"glyph0-3\">\n",
       "<path style=\"stroke:none;\" d=\"M 2.484375 -4.84375 L 2.484375 0 L 3.328125 0 L 3.328125 -6.796875 L 2.765625 -6.796875 C 2.46875 -5.75 2.28125 -5.609375 0.984375 -5.453125 L 0.984375 -4.84375 Z \"/>\n",
       "</symbol>\n",
       "<symbol overflow=\"visible\" id=\"glyph0-4\">\n",
       "<path style=\"stroke:none;\" d=\"M 1.828125 -1 L 0.828125 -1 L 0.828125 0 L 1.828125 0 Z \"/>\n",
       "</symbol>\n",
       "<symbol overflow=\"visible\" id=\"glyph0-5\">\n",
       "<path style=\"stroke:none;\" d=\"M 4.859375 -0.828125 L 1.28125 -0.828125 C 1.359375 -1.390625 1.671875 -1.75 2.5 -2.234375 L 3.46875 -2.75 C 4.40625 -3.265625 4.90625 -3.96875 4.90625 -4.8125 C 4.90625 -5.375 4.671875 -5.90625 4.265625 -6.265625 C 3.859375 -6.625 3.375 -6.796875 2.71875 -6.796875 C 1.859375 -6.796875 1.21875 -6.5 0.84375 -5.921875 C 0.609375 -5.5625 0.5 -5.125 0.484375 -4.4375 L 1.328125 -4.4375 C 1.359375 -4.90625 1.40625 -5.1875 1.53125 -5.40625 C 1.75 -5.8125 2.1875 -6.0625 2.703125 -6.0625 C 3.46875 -6.0625 4.03125 -5.515625 4.03125 -4.78125 C 4.03125 -4.25 3.71875 -3.796875 3.125 -3.4375 L 2.234375 -2.9375 C 0.8125 -2.140625 0.40625 -1.5 0.328125 0 L 4.859375 0 Z \"/>\n",
       "</symbol>\n",
       "<symbol overflow=\"visible\" id=\"glyph0-6\">\n",
       "<path style=\"stroke:none;\" d=\"M 0.859375 0 L 3.546875 0 C 5.3125 0 6.40625 -1.328125 6.40625 -3.5 C 6.40625 -5.671875 5.328125 -7 3.546875 -7 L 0.859375 -7 Z M 1.75 -0.78125 L 1.75 -6.203125 L 3.390625 -6.203125 C 4.78125 -6.203125 5.5 -5.28125 5.5 -3.484375 C 5.5 -1.734375 4.78125 -0.78125 3.390625 -0.78125 Z \"/>\n",
       "</symbol>\n",
       "<symbol overflow=\"visible\" id=\"glyph0-7\">\n",
       "<path style=\"stroke:none;\" d=\"M 1.75 -3.1875 L 5.5625 -3.1875 L 5.5625 -3.96875 L 1.75 -3.96875 L 1.75 -6.203125 L 5.703125 -6.203125 L 5.703125 -7 L 0.859375 -7 L 0.859375 0 L 5.875 0 L 5.875 -0.78125 L 1.75 -0.78125 Z \"/>\n",
       "</symbol>\n",
       "<symbol overflow=\"visible\" id=\"glyph0-8\">\n",
       "<path style=\"stroke:none;\" d=\"M 1.75 -3.1875 L 5.09375 -3.1875 L 5.09375 -3.96875 L 1.75 -3.96875 L 1.75 -6.203125 L 5.5625 -6.203125 L 5.5625 -7 L 0.859375 -7 L 0.859375 0 L 1.75 0 Z \"/>\n",
       "</symbol>\n",
       "<symbol overflow=\"visible\" id=\"glyph0-9\">\n",
       "<path style=\"stroke:none;\" d=\"M 6.796875 -3.6875 L 3.890625 -3.6875 L 3.890625 -2.90625 L 6.015625 -2.90625 L 6.015625 -2.71875 C 6.015625 -1.46875 5.09375 -0.5625 3.8125 -0.5625 C 3.109375 -0.5625 2.46875 -0.828125 2.046875 -1.28125 C 1.59375 -1.78125 1.3125 -2.609375 1.3125 -3.46875 C 1.3125 -5.1875 2.296875 -6.328125 3.765625 -6.328125 C 4.828125 -6.328125 5.609375 -5.78125 5.796875 -4.875 L 6.703125 -4.875 C 6.453125 -6.296875 5.375 -7.109375 3.78125 -7.109375 C 2.921875 -7.109375 2.234375 -6.890625 1.6875 -6.4375 C 0.875 -5.765625 0.421875 -4.6875 0.421875 -3.421875 C 0.421875 -1.28125 1.734375 0.21875 3.625 0.21875 C 4.578125 0.21875 5.328125 -0.140625 6.015625 -0.890625 L 6.234375 0.03125 L 6.796875 0.03125 Z \"/>\n",
       "</symbol>\n",
       "<symbol overflow=\"visible\" id=\"glyph0-10\">\n",
       "<path style=\"stroke:none;\" d=\"M 5.28125 -3.1875 L 5.28125 0 L 6.171875 0 L 6.171875 -7 L 5.28125 -7 L 5.28125 -3.96875 L 1.6875 -3.96875 L 1.6875 -7 L 0.796875 -7 L 0.796875 0 L 1.703125 0 L 1.703125 -3.1875 Z \"/>\n",
       "</symbol>\n",
       "<symbol overflow=\"visible\" id=\"glyph0-11\">\n",
       "<path style=\"stroke:none;\" d=\"M 1.859375 -7 L 0.953125 -7 L 0.953125 0 L 1.859375 0 Z \"/>\n",
       "</symbol>\n",
       "<symbol overflow=\"visible\" id=\"glyph0-12\">\n",
       "<path style=\"stroke:none;\" d=\"M 3.1875 -7 L 3.1875 -2.078125 C 3.1875 -1.515625 3.140625 -1.203125 2.96875 -0.953125 C 2.796875 -0.6875 2.46875 -0.53125 2.125 -0.53125 C 1.453125 -0.53125 1.078125 -0.984375 1.078125 -1.796875 L 1.078125 -2.25 L 0.15625 -2.25 L 0.15625 -1.625 C 0.15625 -0.5 0.90625 0.21875 2.109375 0.21875 C 3.328125 0.21875 4.09375 -0.53125 4.09375 -1.75 L 4.09375 -7 Z \"/>\n",
       "</symbol>\n",
       "<symbol overflow=\"visible\" id=\"glyph1-0\">\n",
       "<path style=\"stroke:none;\" d=\"\"/>\n",
       "</symbol>\n",
       "<symbol overflow=\"visible\" id=\"glyph1-1\">\n",
       "<path style=\"stroke:none;\" d=\"M 8.796875 0.015625 L 7.671875 -0.90625 C 8.5 -1.828125 8.90625 -2.953125 8.90625 -4.328125 C 8.90625 -7.046875 7.203125 -8.890625 4.6875 -8.890625 C 2.15625 -8.890625 0.453125 -7.046875 0.453125 -4.3125 C 0.453125 -1.578125 2.15625 0.28125 4.6875 0.28125 C 5.546875 0.28125 6.265625 0.078125 6.96875 -0.34375 L 8.234375 0.703125 Z M 5.765625 -2.453125 L 5.21875 -1.78125 L 6.109375 -1.046875 C 5.59375 -0.796875 5.203125 -0.703125 4.671875 -0.703125 C 2.8125 -0.703125 1.578125 -2.140625 1.578125 -4.3125 C 1.578125 -6.46875 2.8125 -7.90625 4.6875 -7.90625 C 6.546875 -7.90625 7.78125 -6.46875 7.78125 -4.3125 C 7.78125 -3.1875 7.484375 -2.3125 6.84375 -1.578125 Z \"/>\n",
       "</symbol>\n",
       "<symbol overflow=\"visible\" id=\"glyph1-2\">\n",
       "<path style=\"stroke:none;\" d=\"M 5.78125 0 L 5.78125 -6.28125 L 4.78125 -6.28125 L 4.78125 -2.71875 C 4.78125 -1.4375 4.109375 -0.59375 3.078125 -0.59375 C 2.28125 -0.59375 1.78125 -1.078125 1.78125 -1.84375 L 1.78125 -6.28125 L 0.78125 -6.28125 L 0.78125 -1.4375 C 0.78125 -0.390625 1.5625 0.28125 2.78125 0.28125 C 3.703125 0.28125 4.296875 -0.046875 4.890625 -0.875 L 4.890625 0 Z \"/>\n",
       "</symbol>\n",
       "<symbol overflow=\"visible\" id=\"glyph1-3\">\n",
       "<path style=\"stroke:none;\" d=\"M 1.796875 -6.28125 L 0.796875 -6.28125 L 0.796875 0 L 1.796875 0 Z M 1.796875 -8.75 L 0.796875 -8.75 L 0.796875 -7.484375 L 1.796875 -7.484375 Z \"/>\n",
       "</symbol>\n",
       "<symbol overflow=\"visible\" id=\"glyph1-4\">\n",
       "<path style=\"stroke:none;\" d=\"M 1.828125 -8.75 L 0.8125 -8.75 L 0.8125 0 L 1.828125 0 Z \"/>\n",
       "</symbol>\n",
       "<symbol overflow=\"visible\" id=\"glyph1-5\">\n",
       "<path style=\"stroke:none;\" d=\"M 6.421875 -0.59375 C 6.3125 -0.5625 6.265625 -0.5625 6.203125 -0.5625 C 5.859375 -0.5625 5.65625 -0.75 5.65625 -1.0625 L 5.65625 -4.75 C 5.65625 -5.875 4.84375 -6.46875 3.296875 -6.46875 C 2.390625 -6.46875 1.625 -6.203125 1.21875 -5.734375 C 0.921875 -5.40625 0.796875 -5.046875 0.78125 -4.421875 L 1.78125 -4.421875 C 1.875 -5.203125 2.328125 -5.546875 3.265625 -5.546875 C 4.15625 -5.546875 4.671875 -5.203125 4.671875 -4.609375 L 4.671875 -4.34375 C 4.671875 -3.921875 4.421875 -3.75 3.625 -3.640625 C 2.203125 -3.46875 1.984375 -3.421875 1.609375 -3.265625 C 0.875 -2.96875 0.5 -2.40625 0.5 -1.578125 C 0.5 -0.4375 1.296875 0.28125 2.5625 0.28125 C 3.359375 0.28125 4 0 4.703125 -0.640625 C 4.78125 -0.015625 5.09375 0.28125 5.734375 0.28125 C 5.9375 0.28125 6.09375 0.25 6.421875 0.171875 Z M 4.671875 -1.984375 C 4.671875 -1.640625 4.578125 -1.4375 4.265625 -1.15625 C 3.859375 -0.796875 3.375 -0.59375 2.78125 -0.59375 C 2 -0.59375 1.546875 -0.96875 1.546875 -1.609375 C 1.546875 -2.265625 1.984375 -2.609375 3.0625 -2.765625 C 4.109375 -2.90625 4.328125 -2.953125 4.671875 -3.109375 Z \"/>\n",
       "</symbol>\n",
       "<symbol overflow=\"visible\" id=\"glyph1-6\">\n",
       "<path style=\"stroke:none;\" d=\"M 3.046875 -6.28125 L 2.015625 -6.28125 L 2.015625 -8.015625 L 1.015625 -8.015625 L 1.015625 -6.28125 L 0.171875 -6.28125 L 0.171875 -5.46875 L 1.015625 -5.46875 L 1.015625 -0.71875 C 1.015625 -0.078125 1.453125 0.28125 2.234375 0.28125 C 2.46875 0.28125 2.71875 0.25 3.046875 0.1875 L 3.046875 -0.640625 C 2.921875 -0.609375 2.765625 -0.59375 2.5625 -0.59375 C 2.140625 -0.59375 2.015625 -0.71875 2.015625 -1.15625 L 2.015625 -5.46875 L 3.046875 -5.46875 Z \"/>\n",
       "</symbol>\n",
       "<symbol overflow=\"visible\" id=\"glyph1-7\">\n",
       "<path style=\"stroke:none;\" d=\"M 6.15625 -2.8125 C 6.15625 -3.765625 6.078125 -4.34375 5.90625 -4.8125 C 5.5 -5.84375 4.53125 -6.46875 3.359375 -6.46875 C 1.609375 -6.46875 0.484375 -5.125 0.484375 -3.0625 C 0.484375 -1 1.578125 0.28125 3.34375 0.28125 C 4.78125 0.28125 5.765625 -0.546875 6.03125 -1.90625 L 5.015625 -1.90625 C 4.734375 -1.078125 4.171875 -0.640625 3.375 -0.640625 C 2.734375 -0.640625 2.203125 -0.9375 1.859375 -1.46875 C 1.625 -1.828125 1.53125 -2.1875 1.53125 -2.8125 Z M 1.546875 -3.625 C 1.625 -4.78125 2.34375 -5.546875 3.34375 -5.546875 C 4.328125 -5.546875 5.09375 -4.734375 5.09375 -3.703125 C 5.09375 -3.671875 5.09375 -3.640625 5.078125 -3.625 Z \"/>\n",
       "</symbol>\n",
       "<symbol overflow=\"visible\" id=\"glyph1-8\">\n",
       "<path style=\"stroke:none;\" d=\"M 5.25 -4.53125 C 5.25 -5.765625 4.421875 -6.46875 2.96875 -6.46875 C 1.515625 -6.46875 0.5625 -5.71875 0.5625 -4.546875 C 0.5625 -3.5625 1.0625 -3.09375 2.5625 -2.734375 L 3.484375 -2.515625 C 4.1875 -2.34375 4.46875 -2.09375 4.46875 -1.625 C 4.46875 -1.046875 3.875 -0.640625 3 -0.640625 C 2.453125 -0.640625 2 -0.796875 1.75 -1.0625 C 1.59375 -1.25 1.53125 -1.421875 1.46875 -1.875 L 0.40625 -1.875 C 0.453125 -0.421875 1.265625 0.28125 2.921875 0.28125 C 4.5 0.28125 5.515625 -0.5 5.515625 -1.71875 C 5.515625 -2.65625 4.984375 -3.171875 3.734375 -3.46875 L 2.765625 -3.703125 C 1.953125 -3.890625 1.609375 -4.15625 1.609375 -4.59375 C 1.609375 -5.171875 2.125 -5.546875 2.9375 -5.546875 C 3.75 -5.546875 4.171875 -5.203125 4.203125 -4.53125 Z \"/>\n",
       "</symbol>\n",
       "<symbol overflow=\"visible\" id=\"glyph2-0\">\n",
       "<path style=\"stroke:none;\" d=\"\"/>\n",
       "</symbol>\n",
       "<symbol overflow=\"visible\" id=\"glyph2-1\">\n",
       "<path style=\"stroke:none;\" d=\"M -3.703125 -2.203125 L -3.703125 -4.953125 C -3.703125 -5.640625 -3.90625 -6.1875 -4.328125 -6.640625 C -4.8125 -7.171875 -5.375 -7.40625 -6.1875 -7.40625 C -7.828125 -7.40625 -8.75 -6.4375 -8.75 -4.703125 L -8.75 -1.09375 L 0 -1.09375 L 0 -2.203125 Z M -4.6875 -2.203125 L -7.765625 -2.203125 L -7.765625 -4.53125 C -7.765625 -5.609375 -7.1875 -6.234375 -6.234375 -6.234375 C -5.265625 -6.234375 -4.6875 -5.609375 -4.6875 -4.53125 Z \"/>\n",
       "</symbol>\n",
       "<symbol overflow=\"visible\" id=\"glyph2-2\">\n",
       "<path style=\"stroke:none;\" d=\"M -6.28125 -0.828125 L 0 -0.828125 L 0 -1.84375 L -3.265625 -1.84375 C -4.15625 -1.84375 -4.75 -2.0625 -5.09375 -2.546875 C -5.328125 -2.859375 -5.40625 -3.15625 -5.40625 -3.859375 L -6.4375 -3.859375 C -6.453125 -3.6875 -6.46875 -3.59375 -6.46875 -3.46875 C -6.46875 -2.8125 -6.078125 -2.328125 -5.140625 -1.75 L -6.28125 -1.75 Z \"/>\n",
       "</symbol>\n",
       "<symbol overflow=\"visible\" id=\"glyph2-3\">\n",
       "<path style=\"stroke:none;\" d=\"M -2.8125 -6.15625 C -3.765625 -6.15625 -4.34375 -6.078125 -4.8125 -5.90625 C -5.84375 -5.5 -6.46875 -4.53125 -6.46875 -3.359375 C -6.46875 -1.609375 -5.125 -0.484375 -3.0625 -0.484375 C -1 -0.484375 0.28125 -1.578125 0.28125 -3.34375 C 0.28125 -4.78125 -0.546875 -5.765625 -1.90625 -6.03125 L -1.90625 -5.015625 C -1.078125 -4.734375 -0.640625 -4.171875 -0.640625 -3.375 C -0.640625 -2.734375 -0.9375 -2.203125 -1.46875 -1.859375 C -1.828125 -1.625 -2.1875 -1.53125 -2.8125 -1.53125 Z M -3.625 -1.546875 C -4.78125 -1.625 -5.546875 -2.34375 -5.546875 -3.34375 C -5.546875 -4.328125 -4.734375 -5.09375 -3.703125 -5.09375 C -3.671875 -5.09375 -3.640625 -5.09375 -3.625 -5.078125 Z \"/>\n",
       "</symbol>\n",
       "<symbol overflow=\"visible\" id=\"glyph2-4\">\n",
       "<path style=\"stroke:none;\" d=\"M -4.171875 -5.65625 C -4.78125 -5.609375 -5.1875 -5.46875 -5.53125 -5.234375 C -6.125 -4.796875 -6.46875 -4.046875 -6.46875 -3.171875 C -6.46875 -1.46875 -5.125 -0.375 -3.03125 -0.375 C -1.015625 -0.375 0.28125 -1.453125 0.28125 -3.15625 C 0.28125 -4.65625 -0.625 -5.609375 -2.15625 -5.71875 L -2.15625 -4.71875 C -1.15625 -4.546875 -0.640625 -4.03125 -0.640625 -3.1875 C -0.640625 -2.078125 -1.546875 -1.421875 -3.03125 -1.421875 C -4.609375 -1.421875 -5.546875 -2.0625 -5.546875 -3.15625 C -5.546875 -4 -5.046875 -4.53125 -4.171875 -4.640625 Z \"/>\n",
       "</symbol>\n",
       "<symbol overflow=\"visible\" id=\"glyph2-5\">\n",
       "<path style=\"stroke:none;\" d=\"M -6.28125 -1.796875 L -6.28125 -0.796875 L 0 -0.796875 L 0 -1.796875 Z M -8.75 -1.796875 L -8.75 -0.796875 L -7.484375 -0.796875 L -7.484375 -1.796875 Z \"/>\n",
       "</symbol>\n",
       "<symbol overflow=\"visible\" id=\"glyph2-6\">\n",
       "<path style=\"stroke:none;\" d=\"M -6.46875 -3.265625 C -6.46875 -1.5 -5.203125 -0.4375 -3.09375 -0.4375 C -0.984375 -0.4375 0.28125 -1.484375 0.28125 -3.28125 C 0.28125 -5.046875 -0.984375 -6.125 -3.046875 -6.125 C -5.21875 -6.125 -6.46875 -5.078125 -6.46875 -3.265625 Z M -5.546875 -3.28125 C -5.546875 -4.40625 -4.625 -5.078125 -3.0625 -5.078125 C -1.578125 -5.078125 -0.640625 -4.375 -0.640625 -3.28125 C -0.640625 -2.15625 -1.578125 -1.46875 -3.09375 -1.46875 C -4.609375 -1.46875 -5.546875 -2.15625 -5.546875 -3.28125 Z \"/>\n",
       "</symbol>\n",
       "<symbol overflow=\"visible\" id=\"glyph3-0\">\n",
       "<path style=\"stroke:none;\" d=\"\"/>\n",
       "</symbol>\n",
       "<symbol overflow=\"visible\" id=\"glyph3-1\">\n",
       "<path style=\"stroke:none;\" d=\"M 5.015625 -3.25 C 4.90625 -4.515625 4.0625 -5.265625 2.765625 -5.265625 C 1.234375 -5.265625 0.328125 -4.25 0.328125 -2.484375 C 0.328125 -0.78125 1.21875 0.21875 2.75 0.21875 C 4.015625 0.21875 4.890625 -0.5625 5.015625 -1.796875 L 3.71875 -1.796875 C 3.546875 -1.125 3.28125 -0.859375 2.765625 -0.859375 C 2.078125 -0.859375 1.671875 -1.484375 1.671875 -2.484375 C 1.671875 -2.96875 1.765625 -3.4375 1.921875 -3.734375 C 2.078125 -4.03125 2.375 -4.1875 2.765625 -4.1875 C 3.3125 -4.1875 3.5625 -3.921875 3.71875 -3.25 Z \"/>\n",
       "</symbol>\n",
       "<symbol overflow=\"visible\" id=\"glyph3-2\">\n",
       "<path style=\"stroke:none;\" d=\"M 2.890625 -5.265625 C 1.3125 -5.265625 0.328125 -4.21875 0.328125 -2.515625 C 0.328125 -0.8125 1.3125 0.21875 2.890625 0.21875 C 4.46875 0.21875 5.453125 -0.828125 5.453125 -2.484375 C 5.453125 -4.234375 4.515625 -5.265625 2.890625 -5.265625 Z M 2.890625 -4.1875 C 3.640625 -4.1875 4.109375 -3.515625 4.109375 -2.5 C 4.109375 -1.53125 3.609375 -0.859375 2.890625 -0.859375 C 2.171875 -0.859375 1.671875 -1.53125 1.671875 -2.515625 C 1.671875 -3.515625 2.171875 -4.1875 2.890625 -4.1875 Z \"/>\n",
       "</symbol>\n",
       "<symbol overflow=\"visible\" id=\"glyph3-3\">\n",
       "<path style=\"stroke:none;\" d=\"M 1.984375 -7 L 0.640625 -7 L 0.640625 0 L 1.984375 0 Z \"/>\n",
       "</symbol>\n",
       "<symbol overflow=\"visible\" id=\"glyph3-4\">\n",
       "<path style=\"stroke:none;\" d=\"M 0.609375 -5.1875 L 0.609375 0 L 1.953125 0 L 1.953125 -2.75 C 1.953125 -3.546875 2.34375 -3.9375 3.125 -3.9375 C 3.265625 -3.9375 3.375 -3.921875 3.546875 -3.890625 L 3.546875 -5.25 C 3.46875 -5.265625 3.421875 -5.265625 3.390625 -5.265625 C 2.765625 -5.265625 2.234375 -4.859375 1.953125 -4.15625 L 1.953125 -5.1875 Z \"/>\n",
       "</symbol>\n",
       "</g>\n",
       "<clipPath id=\"clip1\">\n",
       "  <path d=\"M 57.488281 14.398438 L 434 14.398438 L 434 467 L 57.488281 467 Z \"/>\n",
       "</clipPath>\n",
       "<clipPath id=\"clip2\">\n",
       "  <path d=\"M 57.488281 397 L 434.808594 397 L 434.808594 399 L 57.488281 399 Z \"/>\n",
       "</clipPath>\n",
       "<clipPath id=\"clip3\">\n",
       "  <path d=\"M 57.488281 285 L 434.808594 285 L 434.808594 287 L 57.488281 287 Z \"/>\n",
       "</clipPath>\n",
       "<clipPath id=\"clip4\">\n",
       "  <path d=\"M 57.488281 172 L 434.808594 172 L 434.808594 174 L 57.488281 174 Z \"/>\n",
       "</clipPath>\n",
       "<clipPath id=\"clip5\">\n",
       "  <path d=\"M 57.488281 60 L 434.808594 60 L 434.808594 62 L 57.488281 62 Z \"/>\n",
       "</clipPath>\n",
       "<clipPath id=\"clip6\">\n",
       "  <path d=\"M 77 14.398438 L 79 14.398438 L 79 467 L 77 467 Z \"/>\n",
       "</clipPath>\n",
       "<clipPath id=\"clip7\">\n",
       "  <path d=\"M 156 14.398438 L 157 14.398438 L 157 467 L 156 467 Z \"/>\n",
       "</clipPath>\n",
       "<clipPath id=\"clip8\">\n",
       "  <path d=\"M 235 14.398438 L 236 14.398438 L 236 467 L 235 467 Z \"/>\n",
       "</clipPath>\n",
       "<clipPath id=\"clip9\">\n",
       "  <path d=\"M 313 14.398438 L 315 14.398438 L 315 467 L 313 467 Z \"/>\n",
       "</clipPath>\n",
       "<clipPath id=\"clip10\">\n",
       "  <path d=\"M 392 14.398438 L 394 14.398438 L 394 467 L 392 467 Z \"/>\n",
       "</clipPath>\n",
       "<clipPath id=\"clip11\">\n",
       "  <path d=\"M 57.488281 453 L 434.808594 453 L 434.808594 455 L 57.488281 455 Z \"/>\n",
       "</clipPath>\n",
       "<clipPath id=\"clip12\">\n",
       "  <path d=\"M 57.488281 341 L 434.808594 341 L 434.808594 343 L 57.488281 343 Z \"/>\n",
       "</clipPath>\n",
       "<clipPath id=\"clip13\">\n",
       "  <path d=\"M 57.488281 228 L 434.808594 228 L 434.808594 231 L 57.488281 231 Z \"/>\n",
       "</clipPath>\n",
       "<clipPath id=\"clip14\">\n",
       "  <path d=\"M 57.488281 116 L 434.808594 116 L 434.808594 118 L 57.488281 118 Z \"/>\n",
       "</clipPath>\n",
       "<clipPath id=\"clip15\">\n",
       "  <path d=\"M 116 14.398438 L 118 14.398438 L 118 467.511719 L 116 467.511719 Z \"/>\n",
       "</clipPath>\n",
       "<clipPath id=\"clip16\">\n",
       "  <path d=\"M 195 14.398438 L 197 14.398438 L 197 467.511719 L 195 467.511719 Z \"/>\n",
       "</clipPath>\n",
       "<clipPath id=\"clip17\">\n",
       "  <path d=\"M 274 14.398438 L 276 14.398438 L 276 467.511719 L 274 467.511719 Z \"/>\n",
       "</clipPath>\n",
       "<clipPath id=\"clip18\">\n",
       "  <path d=\"M 353 14.398438 L 355 14.398438 L 355 467.511719 L 353 467.511719 Z \"/>\n",
       "</clipPath>\n",
       "<clipPath id=\"clip19\">\n",
       "  <path d=\"M 431 14.398438 L 433 14.398438 L 433 467.511719 L 431 467.511719 Z \"/>\n",
       "</clipPath>\n",
       "</defs>\n",
       "<g id=\"surface271\">\n",
       "<rect x=\"0\" y=\"0\" width=\"504\" height=\"504\" style=\"fill:rgb(100%,100%,100%);fill-opacity:1;stroke:none;\"/>\n",
       "<rect x=\"0\" y=\"0\" width=\"504\" height=\"504\" style=\"fill:rgb(100%,100%,100%);fill-opacity:1;stroke:none;\"/>\n",
       "<path style=\"fill:none;stroke-width:1.062992;stroke-linecap:round;stroke-linejoin:round;stroke:rgb(100%,100%,100%);stroke-opacity:1;stroke-miterlimit:10;\" d=\"M 0 504 L 504 504 L 504 0 L 0 0 Z \"/>\n",
       "<g clip-path=\"url(#clip1)\" clip-rule=\"nonzero\">\n",
       "<path style=\" stroke:none;fill-rule:nonzero;fill:rgb(89.803922%,89.803922%,89.803922%);fill-opacity:1;\" d=\"M 57.488281 466.511719 L 433.808594 466.511719 L 433.808594 14.398438 L 57.488281 14.398438 Z \"/>\n",
       "</g>\n",
       "<g clip-path=\"url(#clip2)\" clip-rule=\"nonzero\">\n",
       "<path style=\"fill:none;stroke-width:0.531496;stroke-linecap:butt;stroke-linejoin:round;stroke:rgb(94.901961%,94.901961%,94.901961%);stroke-opacity:1;stroke-miterlimit:10;\" d=\"M 57.488281 398.226562 L 433.808594 398.226562 \"/>\n",
       "</g>\n",
       "<g clip-path=\"url(#clip3)\" clip-rule=\"nonzero\">\n",
       "<path style=\"fill:none;stroke-width:0.531496;stroke-linecap:butt;stroke-linejoin:round;stroke:rgb(94.901961%,94.901961%,94.901961%);stroke-opacity:1;stroke-miterlimit:10;\" d=\"M 57.488281 285.742188 L 433.808594 285.742188 \"/>\n",
       "</g>\n",
       "<g clip-path=\"url(#clip4)\" clip-rule=\"nonzero\">\n",
       "<path style=\"fill:none;stroke-width:0.531496;stroke-linecap:butt;stroke-linejoin:round;stroke:rgb(94.901961%,94.901961%,94.901961%);stroke-opacity:1;stroke-miterlimit:10;\" d=\"M 57.488281 173.257812 L 433.808594 173.257812 \"/>\n",
       "</g>\n",
       "<g clip-path=\"url(#clip5)\" clip-rule=\"nonzero\">\n",
       "<path style=\"fill:none;stroke-width:0.531496;stroke-linecap:butt;stroke-linejoin:round;stroke:rgb(94.901961%,94.901961%,94.901961%);stroke-opacity:1;stroke-miterlimit:10;\" d=\"M 57.488281 60.777344 L 433.808594 60.777344 \"/>\n",
       "</g>\n",
       "<g clip-path=\"url(#clip6)\" clip-rule=\"nonzero\">\n",
       "<path style=\"fill:none;stroke-width:0.531496;stroke-linecap:butt;stroke-linejoin:round;stroke:rgb(94.901961%,94.901961%,94.901961%);stroke-opacity:1;stroke-miterlimit:10;\" d=\"M 77.746094 466.511719 L 77.746094 14.398438 \"/>\n",
       "</g>\n",
       "<g clip-path=\"url(#clip7)\" clip-rule=\"nonzero\">\n",
       "<path style=\"fill:none;stroke-width:0.531496;stroke-linecap:butt;stroke-linejoin:round;stroke:rgb(94.901961%,94.901961%,94.901961%);stroke-opacity:1;stroke-miterlimit:10;\" d=\"M 156.570312 466.511719 L 156.570312 14.398438 \"/>\n",
       "</g>\n",
       "<g clip-path=\"url(#clip8)\" clip-rule=\"nonzero\">\n",
       "<path style=\"fill:none;stroke-width:0.531496;stroke-linecap:butt;stroke-linejoin:round;stroke:rgb(94.901961%,94.901961%,94.901961%);stroke-opacity:1;stroke-miterlimit:10;\" d=\"M 235.398438 466.511719 L 235.398438 14.398438 \"/>\n",
       "</g>\n",
       "<g clip-path=\"url(#clip9)\" clip-rule=\"nonzero\">\n",
       "<path style=\"fill:none;stroke-width:0.531496;stroke-linecap:butt;stroke-linejoin:round;stroke:rgb(94.901961%,94.901961%,94.901961%);stroke-opacity:1;stroke-miterlimit:10;\" d=\"M 314.226562 466.511719 L 314.226562 14.398438 \"/>\n",
       "</g>\n",
       "<g clip-path=\"url(#clip10)\" clip-rule=\"nonzero\">\n",
       "<path style=\"fill:none;stroke-width:0.531496;stroke-linecap:butt;stroke-linejoin:round;stroke:rgb(94.901961%,94.901961%,94.901961%);stroke-opacity:1;stroke-miterlimit:10;\" d=\"M 393.054688 466.511719 L 393.054688 14.398438 \"/>\n",
       "</g>\n",
       "<g clip-path=\"url(#clip11)\" clip-rule=\"nonzero\">\n",
       "<path style=\"fill:none;stroke-width:1.062992;stroke-linecap:butt;stroke-linejoin:round;stroke:rgb(100%,100%,100%);stroke-opacity:1;stroke-miterlimit:10;\" d=\"M 57.488281 454.464844 L 433.808594 454.464844 \"/>\n",
       "</g>\n",
       "<g clip-path=\"url(#clip12)\" clip-rule=\"nonzero\">\n",
       "<path style=\"fill:none;stroke-width:1.062992;stroke-linecap:butt;stroke-linejoin:round;stroke:rgb(100%,100%,100%);stroke-opacity:1;stroke-miterlimit:10;\" d=\"M 57.488281 341.984375 L 433.808594 341.984375 \"/>\n",
       "</g>\n",
       "<g clip-path=\"url(#clip13)\" clip-rule=\"nonzero\">\n",
       "<path style=\"fill:none;stroke-width:1.062992;stroke-linecap:butt;stroke-linejoin:round;stroke:rgb(100%,100%,100%);stroke-opacity:1;stroke-miterlimit:10;\" d=\"M 57.488281 229.5 L 433.808594 229.5 \"/>\n",
       "</g>\n",
       "<g clip-path=\"url(#clip14)\" clip-rule=\"nonzero\">\n",
       "<path style=\"fill:none;stroke-width:1.062992;stroke-linecap:butt;stroke-linejoin:round;stroke:rgb(100%,100%,100%);stroke-opacity:1;stroke-miterlimit:10;\" d=\"M 57.488281 117.019531 L 433.808594 117.019531 \"/>\n",
       "</g>\n",
       "<g clip-path=\"url(#clip15)\" clip-rule=\"nonzero\">\n",
       "<path style=\"fill:none;stroke-width:1.062992;stroke-linecap:butt;stroke-linejoin:round;stroke:rgb(100%,100%,100%);stroke-opacity:1;stroke-miterlimit:10;\" d=\"M 117.160156 466.511719 L 117.160156 14.398438 \"/>\n",
       "</g>\n",
       "<g clip-path=\"url(#clip16)\" clip-rule=\"nonzero\">\n",
       "<path style=\"fill:none;stroke-width:1.062992;stroke-linecap:butt;stroke-linejoin:round;stroke:rgb(100%,100%,100%);stroke-opacity:1;stroke-miterlimit:10;\" d=\"M 195.984375 466.511719 L 195.984375 14.398438 \"/>\n",
       "</g>\n",
       "<g clip-path=\"url(#clip17)\" clip-rule=\"nonzero\">\n",
       "<path style=\"fill:none;stroke-width:1.062992;stroke-linecap:butt;stroke-linejoin:round;stroke:rgb(100%,100%,100%);stroke-opacity:1;stroke-miterlimit:10;\" d=\"M 274.8125 466.511719 L 274.8125 14.398438 \"/>\n",
       "</g>\n",
       "<g clip-path=\"url(#clip18)\" clip-rule=\"nonzero\">\n",
       "<path style=\"fill:none;stroke-width:1.062992;stroke-linecap:butt;stroke-linejoin:round;stroke:rgb(100%,100%,100%);stroke-opacity:1;stroke-miterlimit:10;\" d=\"M 353.640625 466.511719 L 353.640625 14.398438 \"/>\n",
       "</g>\n",
       "<g clip-path=\"url(#clip19)\" clip-rule=\"nonzero\">\n",
       "<path style=\"fill:none;stroke-width:1.062992;stroke-linecap:butt;stroke-linejoin:round;stroke:rgb(100%,100%,100%);stroke-opacity:1;stroke-miterlimit:10;\" d=\"M 432.464844 466.511719 L 432.464844 14.398438 \"/>\n",
       "</g>\n",
       "<path style=\" stroke:none;fill-rule:nonzero;fill:rgb(0%,75.294118%,58.039216%);fill-opacity:1;\" d=\"M 135.050781 412.601562 C 135.050781 415.433594 130.796875 415.433594 130.796875 412.601562 C 130.796875 409.765625 135.050781 409.765625 135.050781 412.601562 \"/>\n",
       "<path style=\" stroke:none;fill-rule:nonzero;fill:rgb(97.254902%,46.27451%,42.745098%);fill-opacity:1;\" d=\"M 231.21875 227.632812 C 231.21875 230.46875 226.96875 230.46875 226.96875 227.632812 C 226.96875 224.800781 231.21875 224.800781 231.21875 227.632812 \"/>\n",
       "<path style=\" stroke:none;fill-rule:nonzero;fill:rgb(32.54902%,70.588235%,0%);fill-opacity:1;\" d=\"M 119.285156 421.914062 C 119.285156 424.75 115.03125 424.75 115.03125 421.914062 C 115.03125 419.078125 119.285156 419.078125 119.285156 421.914062 \"/>\n",
       "<path style=\" stroke:none;fill-rule:nonzero;fill:rgb(0%,71.372549%,92.156863%);fill-opacity:1;\" d=\"M 86.175781 442.296875 C 86.175781 445.128906 81.925781 445.128906 81.925781 442.296875 C 81.925781 439.460938 86.175781 439.460938 86.175781 442.296875 \"/>\n",
       "<path style=\" stroke:none;fill-rule:nonzero;fill:rgb(32.54902%,70.588235%,0%);fill-opacity:1;\" d=\"M 81.449219 444.296875 C 81.449219 447.132812 77.195312 447.132812 77.195312 444.296875 C 77.195312 441.464844 81.449219 441.464844 81.449219 444.296875 \"/>\n",
       "<path style=\" stroke:none;fill-rule:nonzero;fill:rgb(76.862745%,60.392157%,0%);fill-opacity:1;\" d=\"M 100.367188 424.613281 C 100.367188 427.449219 96.113281 427.449219 96.113281 424.613281 C 96.113281 421.777344 100.367188 421.777344 100.367188 424.613281 \"/>\n",
       "<path style=\" stroke:none;fill-rule:nonzero;fill:rgb(97.254902%,46.27451%,42.745098%);fill-opacity:1;\" d=\"M 125.589844 410.84375 C 125.589844 413.679688 121.339844 413.679688 121.339844 410.84375 C 121.339844 408.011719 125.589844 408.011719 125.589844 410.84375 \"/>\n",
       "<path style=\" stroke:none;fill-rule:nonzero;fill:rgb(0%,71.372549%,92.156863%);fill-opacity:1;\" d=\"M 90.90625 439.347656 C 90.90625 442.183594 86.65625 442.183594 86.65625 439.347656 C 86.65625 436.515625 90.90625 436.515625 90.90625 439.347656 \"/>\n",
       "<path style=\" stroke:none;fill-rule:nonzero;fill:rgb(0%,71.372549%,92.156863%);fill-opacity:1;\" d=\"M 199.6875 341.355469 C 199.6875 344.1875 195.4375 344.1875 195.4375 341.355469 C 195.4375 338.519531 199.6875 338.519531 199.6875 341.355469 \"/>\n",
       "<path style=\" stroke:none;fill-rule:nonzero;fill:rgb(0%,71.372549%,92.156863%);fill-opacity:1;\" d=\"M 215.453125 330.824219 C 215.453125 333.660156 211.203125 333.660156 211.203125 330.824219 C 211.203125 327.992188 215.453125 327.992188 215.453125 330.824219 \"/>\n",
       "<path style=\" stroke:none;fill-rule:nonzero;fill:rgb(0%,75.294118%,58.039216%);fill-opacity:1;\" d=\"M 108.25 429.429688 C 108.25 432.261719 103.996094 432.261719 103.996094 429.429688 C 103.996094 426.59375 108.25 426.59375 108.25 429.429688 \"/>\n",
       "<path style=\" stroke:none;fill-rule:nonzero;fill:rgb(98.431373%,38.039216%,84.313725%);fill-opacity:1;\" d=\"M 234.371094 342.90625 C 234.371094 345.742188 230.121094 345.742188 230.121094 342.90625 C 230.121094 340.070312 234.371094 340.070312 234.371094 342.90625 \"/>\n",
       "<path style=\" stroke:none;fill-rule:nonzero;fill:rgb(0%,71.372549%,92.156863%);fill-opacity:1;\" d=\"M 182.347656 359.214844 C 182.347656 362.050781 178.09375 362.050781 178.09375 359.214844 C 178.09375 356.382812 182.347656 356.382812 182.347656 359.214844 \"/>\n",
       "<path style=\" stroke:none;fill-rule:nonzero;fill:rgb(98.431373%,38.039216%,84.313725%);fill-opacity:1;\" d=\"M 362.070312 136.589844 C 362.070312 139.425781 357.820312 139.425781 357.820312 136.589844 C 357.820312 133.753906 362.070312 133.753906 362.070312 136.589844 \"/>\n",
       "<path style=\" stroke:none;fill-rule:nonzero;fill:rgb(0%,75.294118%,58.039216%);fill-opacity:1;\" d=\"M 98.789062 432.9375 C 98.789062 435.773438 94.539062 435.773438 94.539062 432.9375 C 94.539062 430.101562 98.789062 430.101562 98.789062 432.9375 \"/>\n",
       "<path style=\" stroke:none;fill-rule:nonzero;fill:rgb(76.862745%,60.392157%,0%);fill-opacity:1;\" d=\"M 204.417969 239.578125 C 204.417969 242.414062 200.164062 242.414062 200.164062 239.578125 C 200.164062 236.746094 204.417969 236.746094 204.417969 239.578125 \"/>\n",
       "<path style=\" stroke:none;fill-rule:nonzero;fill:rgb(98.431373%,38.039216%,84.313725%);fill-opacity:1;\" d=\"M 198.113281 391.453125 C 198.113281 394.289062 193.859375 394.289062 193.859375 391.453125 C 193.859375 388.617188 198.113281 388.617188 198.113281 391.453125 \"/>\n",
       "<path style=\" stroke:none;fill-rule:nonzero;fill:rgb(97.254902%,46.27451%,42.745098%);fill-opacity:1;\" d=\"M 92.484375 431.925781 C 92.484375 434.757812 88.230469 434.757812 88.230469 431.925781 C 88.230469 429.089844 92.484375 429.089844 92.484375 431.925781 \"/>\n",
       "<path style=\" stroke:none;fill-rule:nonzero;fill:rgb(0%,71.372549%,92.156863%);fill-opacity:1;\" d=\"M 94.058594 439.460938 C 94.058594 442.296875 89.808594 442.296875 89.808594 439.460938 C 89.808594 436.625 94.058594 436.625 94.058594 439.460938 \"/>\n",
       "<path style=\" stroke:none;fill-rule:nonzero;fill:rgb(0%,75.294118%,58.039216%);fill-opacity:1;\" d=\"M 308.46875 153.058594 C 308.46875 155.890625 304.21875 155.890625 304.21875 153.058594 C 304.21875 150.222656 308.46875 150.222656 308.46875 153.058594 \"/>\n",
       "<path style=\" stroke:none;fill-rule:nonzero;fill:rgb(97.254902%,46.27451%,42.745098%);fill-opacity:1;\" d=\"M 280.089844 218.546875 C 280.089844 221.378906 275.839844 221.378906 275.839844 218.546875 C 275.839844 215.710938 280.089844 215.710938 280.089844 218.546875 \"/>\n",
       "<path style=\" stroke:none;fill-rule:nonzero;fill:rgb(0%,71.372549%,92.156863%);fill-opacity:1;\" d=\"M 81.449219 443.804688 C 81.449219 446.636719 77.195312 446.636719 77.195312 443.804688 C 77.195312 440.96875 81.449219 440.96875 81.449219 443.804688 \"/>\n",
       "<path style=\" stroke:none;fill-rule:nonzero;fill:rgb(32.54902%,70.588235%,0%);fill-opacity:1;\" d=\"M 87.753906 439.125 C 87.753906 441.957031 83.5 441.957031 83.5 439.125 C 83.5 436.289062 87.753906 436.289062 87.753906 439.125 \"/>\n",
       "<path style=\" stroke:none;fill-rule:nonzero;fill:rgb(64.705882%,54.117647%,100%);fill-opacity:1;\" d=\"M 228.066406 351.183594 C 228.066406 354.019531 223.8125 354.019531 223.8125 351.183594 C 223.8125 348.351562 228.066406 348.351562 228.066406 351.183594 \"/>\n",
       "<path style=\" stroke:none;fill-rule:nonzero;fill:rgb(0%,71.372549%,92.156863%);fill-opacity:1;\" d=\"M 90.90625 439.890625 C 90.90625 442.722656 86.65625 442.722656 86.65625 439.890625 C 86.65625 437.054688 90.90625 437.054688 90.90625 439.890625 \"/>\n",
       "<path style=\" stroke:none;fill-rule:nonzero;fill:rgb(0%,75.294118%,58.039216%);fill-opacity:1;\" d=\"M 90.90625 441.890625 C 90.90625 444.726562 86.65625 444.726562 86.65625 441.890625 C 86.65625 439.054688 90.90625 439.054688 90.90625 441.890625 \"/>\n",
       "<path style=\" stroke:none;fill-rule:nonzero;fill:rgb(76.862745%,60.392157%,0%);fill-opacity:1;\" d=\"M 198.113281 313.90625 C 198.113281 316.742188 193.859375 316.742188 193.859375 313.90625 C 193.859375 311.074219 198.113281 311.074219 198.113281 313.90625 \"/>\n",
       "<path style=\" stroke:none;fill-rule:nonzero;fill:rgb(76.862745%,60.392157%,0%);fill-opacity:1;\" d=\"M 201.265625 323.851562 C 201.265625 326.6875 197.011719 326.6875 197.011719 323.851562 C 197.011719 321.015625 201.265625 321.015625 201.265625 323.851562 \"/>\n",
       "<path style=\" stroke:none;fill-rule:nonzero;fill:rgb(76.862745%,60.392157%,0%);fill-opacity:1;\" d=\"M 78.292969 445.039062 C 78.292969 447.875 74.042969 447.875 74.042969 445.039062 C 74.042969 442.207031 78.292969 442.207031 78.292969 445.039062 \"/>\n",
       "<path style=\" stroke:none;fill-rule:nonzero;fill:rgb(32.54902%,70.588235%,0%);fill-opacity:1;\" d=\"M 209.148438 329.363281 C 209.148438 332.199219 204.894531 332.199219 204.894531 329.363281 C 204.894531 326.527344 209.148438 326.527344 209.148438 329.363281 \"/>\n",
       "<path style=\" stroke:none;fill-rule:nonzero;fill:rgb(76.862745%,60.392157%,0%);fill-opacity:1;\" d=\"M 155.546875 401.398438 C 155.546875 404.230469 151.292969 404.230469 151.292969 401.398438 C 151.292969 398.5625 155.546875 398.5625 155.546875 401.398438 \"/>\n",
       "<path style=\" stroke:none;fill-rule:nonzero;fill:rgb(97.254902%,46.27451%,42.745098%);fill-opacity:1;\" d=\"M 152.390625 390.9375 C 152.390625 393.769531 148.140625 393.769531 148.140625 390.9375 C 148.140625 388.101562 152.390625 388.101562 152.390625 390.9375 \"/>\n",
       "<path style=\" stroke:none;fill-rule:nonzero;fill:rgb(32.54902%,70.588235%,0%);fill-opacity:1;\" d=\"M 199.6875 261.46875 C 199.6875 264.304688 195.4375 264.304688 195.4375 261.46875 C 195.4375 258.632812 199.6875 258.632812 199.6875 261.46875 \"/>\n",
       "<path style=\" stroke:none;fill-rule:nonzero;fill:rgb(97.254902%,46.27451%,42.745098%);fill-opacity:1;\" d=\"M 106.671875 427.246094 C 106.671875 430.082031 102.421875 430.082031 102.421875 427.246094 C 102.421875 424.410156 106.671875 424.410156 106.671875 427.246094 \"/>\n",
       "<path style=\" stroke:none;fill-rule:nonzero;fill:rgb(0%,71.372549%,92.156863%);fill-opacity:1;\" d=\"M 371.53125 34.949219 C 371.53125 37.785156 367.277344 37.785156 367.277344 34.949219 C 367.277344 32.117188 371.53125 32.117188 371.53125 34.949219 \"/>\n",
       "<path style=\" stroke:none;fill-rule:nonzero;fill:rgb(32.54902%,70.588235%,0%);fill-opacity:1;\" d=\"M 100.367188 439.617188 C 100.367188 442.453125 96.113281 442.453125 96.113281 439.617188 C 96.113281 436.785156 100.367188 436.785156 100.367188 439.617188 \"/>\n",
       "<path style=\" stroke:none;fill-rule:nonzero;fill:rgb(64.705882%,54.117647%,100%);fill-opacity:1;\" d=\"M 139.78125 422.453125 C 139.78125 425.289062 135.527344 425.289062 135.527344 422.453125 C 135.527344 419.621094 139.78125 419.621094 139.78125 422.453125 \"/>\n",
       "<path style=\" stroke:none;fill-rule:nonzero;fill:rgb(98.431373%,38.039216%,84.313725%);fill-opacity:1;\" d=\"M 418.828125 98.480469 C 418.828125 101.316406 414.574219 101.316406 414.574219 98.480469 C 414.574219 95.644531 418.828125 95.644531 418.828125 98.480469 \"/>\n",
       "<path style=\" stroke:none;fill-rule:nonzero;fill:rgb(0%,71.372549%,92.156863%);fill-opacity:1;\" d=\"M 191.804688 414.578125 C 191.804688 417.414062 187.554688 417.414062 187.554688 414.578125 C 187.554688 411.746094 191.804688 411.746094 191.804688 414.578125 \"/>\n",
       "<path style=\" stroke:none;fill-rule:nonzero;fill:rgb(64.705882%,54.117647%,100%);fill-opacity:1;\" d=\"M 98.789062 434.804688 C 98.789062 437.640625 94.539062 437.640625 94.539062 434.804688 C 94.539062 431.96875 98.789062 431.96875 98.789062 434.804688 \"/>\n",
       "<path style=\" stroke:none;fill-rule:nonzero;fill:rgb(76.862745%,60.392157%,0%);fill-opacity:1;\" d=\"M 246.984375 257.238281 C 246.984375 260.074219 242.734375 260.074219 242.734375 257.238281 C 242.734375 254.40625 246.984375 254.40625 246.984375 257.238281 \"/>\n",
       "<path style=\" stroke:none;fill-rule:nonzero;fill:rgb(97.254902%,46.27451%,42.745098%);fill-opacity:1;\" d=\"M 150.816406 376.382812 C 150.816406 379.214844 146.5625 379.214844 146.5625 376.382812 C 146.5625 373.546875 150.816406 373.546875 150.816406 376.382812 \"/>\n",
       "<path style=\" stroke:none;fill-rule:nonzero;fill:rgb(32.54902%,70.588235%,0%);fill-opacity:1;\" d=\"M 89.332031 435.570312 C 89.332031 438.402344 85.078125 438.402344 85.078125 435.570312 C 85.078125 432.734375 89.332031 432.734375 89.332031 435.570312 \"/>\n",
       "<path style=\" stroke:none;fill-rule:nonzero;fill:rgb(32.54902%,70.588235%,0%);fill-opacity:1;\" d=\"M 89.332031 435.996094 C 89.332031 438.832031 85.078125 438.832031 85.078125 435.996094 C 85.078125 433.164062 89.332031 433.164062 89.332031 435.996094 \"/>\n",
       "<path style=\" stroke:none;fill-rule:nonzero;fill:rgb(64.705882%,54.117647%,100%);fill-opacity:1;\" d=\"M 355.765625 102.371094 C 355.765625 105.207031 351.515625 105.207031 351.515625 102.371094 C 351.515625 99.539062 355.765625 99.539062 355.765625 102.371094 \"/>\n",
       "<path style=\" stroke:none;fill-rule:nonzero;fill:rgb(0%,75.294118%,58.039216%);fill-opacity:1;\" d=\"M 199.6875 364.90625 C 199.6875 367.742188 195.4375 367.742188 195.4375 364.90625 C 195.4375 362.074219 199.6875 362.074219 199.6875 364.90625 \"/>\n",
       "<path style=\" stroke:none;fill-rule:nonzero;fill:rgb(32.54902%,70.588235%,0%);fill-opacity:1;\" d=\"M 103.519531 438.855469 C 103.519531 441.6875 99.265625 441.6875 99.265625 438.855469 C 99.265625 436.019531 103.519531 436.019531 103.519531 438.855469 \"/>\n",
       "<path style=\" stroke:none;fill-rule:nonzero;fill:rgb(0%,75.294118%,58.039216%);fill-opacity:1;\" d=\"M 278.515625 204.101562 C 278.515625 206.9375 274.261719 206.9375 274.261719 204.101562 C 274.261719 201.269531 278.515625 201.269531 278.515625 204.101562 \"/>\n",
       "<path style=\" stroke:none;fill-rule:nonzero;fill:rgb(76.862745%,60.392157%,0%);fill-opacity:1;\" d=\"M 127.167969 401.058594 C 127.167969 403.894531 122.914062 403.894531 122.914062 401.058594 C 122.914062 398.226562 127.167969 398.226562 127.167969 401.058594 \"/>\n",
       "<path style=\" stroke:none;fill-rule:nonzero;fill:rgb(98.431373%,38.039216%,84.313725%);fill-opacity:1;\" d=\"M 253.289062 324.910156 C 253.289062 327.742188 249.039062 327.742188 249.039062 324.910156 C 249.039062 322.074219 253.289062 322.074219 253.289062 324.910156 \"/>\n",
       "<path style=\" stroke:none;fill-rule:nonzero;fill:rgb(0%,71.372549%,92.156863%);fill-opacity:1;\" d=\"M 152.390625 379.125 C 152.390625 381.960938 148.140625 381.960938 148.140625 379.125 C 148.140625 376.289062 152.390625 376.289062 152.390625 379.125 \"/>\n",
       "<path style=\" stroke:none;fill-rule:nonzero;fill:rgb(0%,71.372549%,92.156863%);fill-opacity:1;\" d=\"M 215.453125 337.664062 C 215.453125 340.5 211.203125 340.5 211.203125 337.664062 C 211.203125 334.828125 215.453125 334.828125 215.453125 337.664062 \"/>\n",
       "<path style=\" stroke:none;fill-rule:nonzero;fill:rgb(76.862745%,60.392157%,0%);fill-opacity:1;\" d=\"M 79.871094 437.820312 C 79.871094 440.652344 75.621094 440.652344 75.621094 437.820312 C 75.621094 434.984375 79.871094 434.984375 79.871094 437.820312 \"/>\n",
       "<path style=\" stroke:none;fill-rule:nonzero;fill:rgb(76.862745%,60.392157%,0%);fill-opacity:1;\" d=\"M 103.519531 435.230469 C 103.519531 438.066406 99.265625 438.066406 99.265625 435.230469 C 99.265625 432.398438 103.519531 432.398438 103.519531 435.230469 \"/>\n",
       "<path style=\" stroke:none;fill-rule:nonzero;fill:rgb(97.254902%,46.27451%,42.745098%);fill-opacity:1;\" d=\"M 103.519531 436.515625 C 103.519531 439.347656 99.265625 439.347656 99.265625 436.515625 C 99.265625 433.679688 103.519531 433.679688 103.519531 436.515625 \"/>\n",
       "<path style=\" stroke:none;fill-rule:nonzero;fill:rgb(32.54902%,70.588235%,0%);fill-opacity:1;\" d=\"M 182.347656 376.695312 C 182.347656 379.53125 178.09375 379.53125 178.09375 376.695312 C 178.09375 373.859375 182.347656 373.859375 182.347656 376.695312 \"/>\n",
       "<path style=\" stroke:none;fill-rule:nonzero;fill:rgb(0%,71.372549%,92.156863%);fill-opacity:1;\" d=\"M 275.363281 249.027344 C 275.363281 251.863281 271.109375 251.863281 271.109375 249.027344 C 271.109375 246.191406 275.363281 246.191406 275.363281 249.027344 \"/>\n",
       "<path style=\" stroke:none;fill-rule:nonzero;fill:rgb(76.862745%,60.392157%,0%);fill-opacity:1;\" d=\"M 183.921875 354.714844 C 183.921875 357.550781 179.671875 357.550781 179.671875 354.714844 C 179.671875 351.882812 183.921875 351.882812 183.921875 354.714844 \"/>\n",
       "<path style=\" stroke:none;fill-rule:nonzero;fill:rgb(0%,71.372549%,92.156863%);fill-opacity:1;\" d=\"M 166.582031 398.808594 C 166.582031 401.644531 162.328125 401.644531 162.328125 398.808594 C 162.328125 395.976562 166.582031 395.976562 166.582031 398.808594 \"/>\n",
       "<path style=\" stroke:none;fill-rule:nonzero;fill:rgb(76.862745%,60.392157%,0%);fill-opacity:1;\" d=\"M 122.4375 404.300781 C 122.4375 407.132812 118.1875 407.132812 118.1875 404.300781 C 118.1875 401.464844 122.4375 401.464844 122.4375 404.300781 \"/>\n",
       "<path style=\" stroke:none;fill-rule:nonzero;fill:rgb(0%,75.294118%,58.039216%);fill-opacity:1;\" d=\"M 209.148438 318.992188 C 209.148438 321.828125 204.894531 321.828125 204.894531 318.992188 C 204.894531 316.15625 209.148438 316.15625 209.148438 318.992188 \"/>\n",
       "<path style=\" stroke:none;fill-rule:nonzero;fill:rgb(97.254902%,46.27451%,42.745098%);fill-opacity:1;\" d=\"M 119.285156 416.199219 C 119.285156 419.035156 115.03125 419.035156 115.03125 416.199219 C 115.03125 413.363281 119.285156 413.363281 119.285156 416.199219 \"/>\n",
       "<path style=\" stroke:none;fill-rule:nonzero;fill:rgb(32.54902%,70.588235%,0%);fill-opacity:1;\" d=\"M 103.519531 439.011719 C 103.519531 441.847656 99.265625 441.847656 99.265625 439.011719 C 99.265625 436.175781 103.519531 436.175781 103.519531 439.011719 \"/>\n",
       "<path style=\" stroke:none;fill-rule:nonzero;fill:rgb(97.254902%,46.27451%,42.745098%);fill-opacity:1;\" d=\"M 95.636719 436.917969 C 95.636719 439.753906 91.382812 439.753906 91.382812 436.917969 C 91.382812 434.085938 95.636719 434.085938 95.636719 436.917969 \"/>\n",
       "<path style=\" stroke:none;fill-rule:nonzero;fill:rgb(76.862745%,60.392157%,0%);fill-opacity:1;\" d=\"M 201.265625 311.792969 C 201.265625 314.628906 197.011719 314.628906 197.011719 311.792969 C 197.011719 308.957031 201.265625 308.957031 201.265625 311.792969 \"/>\n",
       "<path style=\" stroke:none;fill-rule:nonzero;fill:rgb(32.54902%,70.588235%,0%);fill-opacity:1;\" d=\"M 212.300781 187.972656 C 212.300781 190.808594 208.046875 190.808594 208.046875 187.972656 C 208.046875 185.136719 212.300781 185.136719 212.300781 187.972656 \"/>\n",
       "<path style=\" stroke:none;fill-rule:nonzero;fill:rgb(97.254902%,46.27451%,42.745098%);fill-opacity:1;\" d=\"M 182.347656 354.695312 C 182.347656 357.527344 178.09375 357.527344 178.09375 354.695312 C 178.09375 351.859375 182.347656 351.859375 182.347656 354.695312 \"/>\n",
       "<path style=\" stroke:none;fill-rule:nonzero;fill:rgb(97.254902%,46.27451%,42.745098%);fill-opacity:1;\" d=\"M 142.933594 406.457031 C 142.933594 409.292969 138.679688 409.292969 138.679688 406.457031 C 138.679688 403.625 142.933594 403.625 142.933594 406.457031 \"/>\n",
       "<path style=\" stroke:none;fill-rule:nonzero;fill:rgb(97.254902%,46.27451%,42.745098%);fill-opacity:1;\" d=\"M 124.015625 410.464844 C 124.015625 413.296875 119.761719 413.296875 119.761719 410.464844 C 119.761719 407.628906 124.015625 407.628906 124.015625 410.464844 \"/>\n",
       "<path style=\" stroke:none;fill-rule:nonzero;fill:rgb(98.431373%,38.039216%,84.313725%);fill-opacity:1;\" d=\"M 355.765625 167.230469 C 355.765625 170.066406 351.515625 170.066406 351.515625 167.230469 C 351.515625 164.394531 355.765625 164.394531 355.765625 167.230469 \"/>\n",
       "<path style=\" stroke:none;fill-rule:nonzero;fill:rgb(98.431373%,38.039216%,84.313725%);fill-opacity:1;\" d=\"M 387.296875 160.550781 C 387.296875 163.382812 383.042969 163.382812 383.042969 160.550781 C 383.042969 157.714844 387.296875 157.714844 387.296875 160.550781 \"/>\n",
       "<path style=\" stroke:none;fill-rule:nonzero;fill:rgb(0%,75.294118%,58.039216%);fill-opacity:1;\" d=\"M 87.753906 437.007812 C 87.753906 439.84375 83.5 439.84375 83.5 437.007812 C 83.5 434.175781 87.753906 434.175781 87.753906 437.007812 \"/>\n",
       "<path style=\" stroke:none;fill-rule:nonzero;fill:rgb(32.54902%,70.588235%,0%);fill-opacity:1;\" d=\"M 119.285156 425.535156 C 119.285156 428.371094 115.03125 428.371094 115.03125 425.535156 C 115.03125 422.703125 119.285156 422.703125 119.285156 425.535156 \"/>\n",
       "<path style=\" stroke:none;fill-rule:nonzero;fill:rgb(0%,75.294118%,58.039216%);fill-opacity:1;\" d=\"M 163.429688 400.453125 C 163.429688 403.285156 159.175781 403.285156 159.175781 400.453125 C 159.175781 397.617188 163.429688 397.617188 163.429688 400.453125 \"/>\n",
       "<path style=\" stroke:none;fill-rule:nonzero;fill:rgb(0%,75.294118%,58.039216%);fill-opacity:1;\" d=\"M 152.390625 392.242188 C 152.390625 395.074219 148.140625 395.074219 148.140625 392.242188 C 148.140625 389.40625 152.390625 389.40625 152.390625 392.242188 \"/>\n",
       "<path style=\" stroke:none;fill-rule:nonzero;fill:rgb(76.862745%,60.392157%,0%);fill-opacity:1;\" d=\"M 199.6875 210.332031 C 199.6875 213.167969 195.4375 213.167969 195.4375 210.332031 C 195.4375 207.5 199.6875 207.5 199.6875 210.332031 \"/>\n",
       "<path style=\" stroke:none;fill-rule:nonzero;fill:rgb(97.254902%,46.27451%,42.745098%);fill-opacity:1;\" d=\"M 198.113281 331.003906 C 198.113281 333.839844 193.859375 333.839844 193.859375 331.003906 C 193.859375 328.171875 198.113281 328.171875 198.113281 331.003906 \"/>\n",
       "<path style=\" stroke:none;fill-rule:nonzero;fill:rgb(32.54902%,70.588235%,0%);fill-opacity:1;\" d=\"M 130.320312 419.125 C 130.320312 421.960938 126.070312 421.960938 126.070312 419.125 C 126.070312 416.289062 130.320312 416.289062 130.320312 419.125 \"/>\n",
       "<path style=\" stroke:none;fill-rule:nonzero;fill:rgb(76.862745%,60.392157%,0%);fill-opacity:1;\" d=\"M 120.859375 422.925781 C 120.859375 425.761719 116.609375 425.761719 116.609375 422.925781 C 116.609375 420.089844 120.859375 420.089844 120.859375 422.925781 \"/>\n",
       "<path style=\" stroke:none;fill-rule:nonzero;fill:rgb(76.862745%,60.392157%,0%);fill-opacity:1;\" d=\"M 119.285156 417.820312 C 119.285156 420.652344 115.03125 420.652344 115.03125 417.820312 C 115.03125 414.984375 119.285156 414.984375 119.285156 417.820312 \"/>\n",
       "<path style=\" stroke:none;fill-rule:nonzero;fill:rgb(76.862745%,60.392157%,0%);fill-opacity:1;\" d=\"M 182.347656 362.410156 C 182.347656 365.246094 178.09375 365.246094 178.09375 362.410156 C 178.09375 359.574219 182.347656 359.574219 182.347656 362.410156 \"/>\n",
       "<path style=\" stroke:none;fill-rule:nonzero;fill:rgb(97.254902%,46.27451%,42.745098%);fill-opacity:1;\" d=\"M 128.742188 407.988281 C 128.742188 410.824219 124.492188 410.824219 124.492188 407.988281 C 124.492188 405.152344 128.742188 405.152344 128.742188 407.988281 \"/>\n",
       "<path style=\" stroke:none;fill-rule:nonzero;fill:rgb(76.862745%,60.392157%,0%);fill-opacity:1;\" d=\"M 122.4375 416.46875 C 122.4375 419.304688 118.1875 419.304688 118.1875 416.46875 C 118.1875 413.636719 122.4375 413.636719 122.4375 416.46875 \"/>\n",
       "<path style=\" stroke:none;fill-rule:nonzero;fill:rgb(98.431373%,38.039216%,84.313725%);fill-opacity:1;\" d=\"M 357.34375 165.5 C 357.34375 168.332031 353.089844 168.332031 353.089844 165.5 C 353.089844 162.664062 357.34375 162.664062 357.34375 165.5 \"/>\n",
       "<path style=\" stroke:none;fill-rule:nonzero;fill:rgb(32.54902%,70.588235%,0%);fill-opacity:1;\" d=\"M 287.972656 174.789062 C 287.972656 177.625 283.722656 177.625 283.722656 174.789062 C 283.722656 171.953125 287.972656 171.953125 287.972656 174.789062 \"/>\n",
       "<path style=\" stroke:none;fill-rule:nonzero;fill:rgb(76.862745%,60.392157%,0%);fill-opacity:1;\" d=\"M 153.96875 390.507812 C 153.96875 393.34375 149.714844 393.34375 149.714844 390.507812 C 149.714844 387.675781 153.96875 387.675781 153.96875 390.507812 \"/>\n",
       "<path style=\" stroke:none;fill-rule:nonzero;fill:rgb(0%,71.372549%,92.156863%);fill-opacity:1;\" d=\"M 92.484375 437.75 C 92.484375 440.585938 88.230469 440.585938 88.230469 437.75 C 88.230469 434.917969 92.484375 434.917969 92.484375 437.75 \"/>\n",
       "<path style=\" stroke:none;fill-rule:nonzero;fill:rgb(64.705882%,54.117647%,100%);fill-opacity:1;\" d=\"M 371.53125 102.328125 C 371.53125 105.164062 367.277344 105.164062 367.277344 102.328125 C 367.277344 99.492188 371.53125 99.492188 371.53125 102.328125 \"/>\n",
       "<path style=\" stroke:none;fill-rule:nonzero;fill:rgb(76.862745%,60.392157%,0%);fill-opacity:1;\" d=\"M 120.859375 424.253906 C 120.859375 427.089844 116.609375 427.089844 116.609375 424.253906 C 116.609375 421.417969 120.859375 421.417969 120.859375 424.253906 \"/>\n",
       "<path style=\" stroke:none;fill-rule:nonzero;fill:rgb(76.862745%,60.392157%,0%);fill-opacity:1;\" d=\"M 150.816406 399.035156 C 150.816406 401.871094 146.5625 401.871094 146.5625 399.035156 C 146.5625 396.199219 150.816406 396.199219 150.816406 399.035156 \"/>\n",
       "<path style=\" stroke:none;fill-rule:nonzero;fill:rgb(64.705882%,54.117647%,100%);fill-opacity:1;\" d=\"M 183.921875 390.757812 C 183.921875 393.589844 179.671875 393.589844 179.671875 390.757812 C 179.671875 387.921875 183.921875 387.921875 183.921875 390.757812 \"/>\n",
       "<path style=\" stroke:none;fill-rule:nonzero;fill:rgb(0%,75.294118%,58.039216%);fill-opacity:1;\" d=\"M 199.6875 348.867188 C 199.6875 351.703125 195.4375 351.703125 195.4375 348.867188 C 195.4375 346.03125 199.6875 346.03125 199.6875 348.867188 \"/>\n",
       "<path style=\" stroke:none;fill-rule:nonzero;fill:rgb(64.705882%,54.117647%,100%);fill-opacity:1;\" d=\"M 122.4375 432.464844 C 122.4375 435.300781 118.1875 435.300781 118.1875 432.464844 C 118.1875 429.628906 122.4375 429.628906 122.4375 432.464844 \"/>\n",
       "<path style=\" stroke:none;fill-rule:nonzero;fill:rgb(0%,71.372549%,92.156863%);fill-opacity:1;\" d=\"M 229.640625 325.203125 C 229.640625 328.035156 225.390625 328.035156 225.390625 325.203125 C 225.390625 322.367188 229.640625 322.367188 229.640625 325.203125 \"/>\n",
       "<path style=\" stroke:none;fill-rule:nonzero;fill:rgb(32.54902%,70.588235%,0%);fill-opacity:1;\" d=\"M 87.753906 440.855469 C 87.753906 443.691406 83.5 443.691406 83.5 440.855469 C 83.5 438.019531 87.753906 438.019531 87.753906 440.855469 \"/>\n",
       "<path style=\" stroke:none;fill-rule:nonzero;fill:rgb(76.862745%,60.392157%,0%);fill-opacity:1;\" d=\"M 128.742188 410.867188 C 128.742188 413.703125 124.492188 413.703125 124.492188 410.867188 C 124.492188 408.035156 128.742188 408.035156 128.742188 410.867188 \"/>\n",
       "<path style=\" stroke:none;fill-rule:nonzero;fill:rgb(32.54902%,70.588235%,0%);fill-opacity:1;\" d=\"M 100.367188 438.875 C 100.367188 441.710938 96.113281 441.710938 96.113281 438.875 C 96.113281 436.042969 100.367188 436.042969 100.367188 438.875 \"/>\n",
       "<path style=\" stroke:none;fill-rule:nonzero;fill:rgb(76.862745%,60.392157%,0%);fill-opacity:1;\" d=\"M 76.71875 445.960938 C 76.71875 448.796875 72.464844 448.796875 72.464844 445.960938 C 72.464844 443.128906 76.71875 443.128906 76.71875 445.960938 \"/>\n",
       "<path style=\" stroke:none;fill-rule:nonzero;fill:rgb(0%,75.294118%,58.039216%);fill-opacity:1;\" d=\"M 108.25 422.230469 C 108.25 425.0625 103.996094 425.0625 103.996094 422.230469 C 103.996094 419.394531 108.25 419.394531 108.25 422.230469 \"/>\n",
       "<path style=\" stroke:none;fill-rule:nonzero;fill:rgb(0%,75.294118%,58.039216%);fill-opacity:1;\" d=\"M 97.214844 437.796875 C 97.214844 440.632812 92.960938 440.632812 92.960938 437.796875 C 92.960938 434.960938 97.214844 434.960938 97.214844 437.796875 \"/>\n",
       "<path style=\" stroke:none;fill-rule:nonzero;fill:rgb(60%,60%,60%);fill-opacity:0.4;\" d=\"M 100.574219 427.363281 L 104.90625 422.617188 L 109.234375 417.863281 L 113.566406 413.097656 L 117.898438 408.324219 L 122.226562 403.535156 L 126.558594 398.738281 L 130.886719 393.925781 L 135.21875 389.101562 L 139.550781 384.261719 L 143.878906 379.402344 L 148.210938 374.53125 L 152.539062 369.644531 L 156.871094 364.738281 L 161.203125 359.8125 L 165.53125 354.871094 L 169.863281 349.910156 L 174.195312 344.933594 L 178.523438 339.9375 L 182.855469 334.921875 L 187.183594 329.890625 L 191.515625 324.839844 L 195.847656 319.777344 L 200.175781 314.695312 L 204.507812 309.601562 L 208.835938 304.496094 L 213.167969 299.375 L 217.5 294.238281 L 221.828125 289.09375 L 226.160156 283.941406 L 230.488281 278.773438 L 234.820312 273.601562 L 239.152344 268.417969 L 243.480469 263.230469 L 247.8125 258.03125 L 252.140625 252.828125 L 256.472656 247.617188 L 260.804688 242.402344 L 265.132812 237.179688 L 269.464844 231.953125 L 273.792969 226.726562 L 278.125 221.492188 L 282.457031 216.253906 L 286.785156 211.011719 L 291.117188 205.765625 L 295.449219 200.515625 L 299.777344 195.265625 L 304.109375 190.011719 L 308.4375 184.757812 L 312.769531 179.5 L 317.101562 174.238281 L 321.429688 168.976562 L 325.761719 163.710938 L 330.089844 158.445312 L 338.753906 147.90625 L 343.082031 142.636719 L 347.414062 137.363281 L 351.742188 132.089844 L 356.074219 126.816406 L 360.40625 121.539062 L 364.734375 116.265625 L 369.066406 110.984375 L 373.394531 105.707031 L 382.058594 95.144531 L 386.386719 89.863281 L 390.71875 84.582031 L 395.046875 79.300781 L 403.710938 68.730469 L 408.039062 63.445312 L 416.703125 52.875 L 416.703125 94.601562 L 408.039062 103.867188 L 403.710938 108.5 L 399.378906 113.136719 L 395.046875 117.769531 L 390.71875 122.40625 L 386.386719 127.042969 L 382.058594 131.679688 L 377.726562 136.316406 L 373.394531 140.957031 L 369.066406 145.59375 L 364.734375 150.234375 L 360.40625 154.875 L 351.742188 164.164062 L 347.414062 168.808594 L 343.082031 173.453125 L 338.753906 178.101562 L 334.421875 182.75 L 330.089844 187.402344 L 325.761719 192.054688 L 321.429688 196.707031 L 317.101562 201.363281 L 308.4375 210.683594 L 304.109375 215.34375 L 299.777344 220.007812 L 295.449219 224.675781 L 286.785156 234.019531 L 282.457031 238.695312 L 273.792969 248.0625 L 269.464844 252.75 L 265.132812 257.441406 L 260.804688 262.140625 L 256.472656 266.84375 L 252.140625 271.550781 L 247.8125 276.265625 L 243.480469 280.988281 L 239.152344 285.714844 L 234.820312 290.449219 L 230.488281 295.195312 L 226.160156 299.949219 L 221.828125 304.710938 L 217.5 309.484375 L 213.167969 314.269531 L 208.835938 319.070312 L 204.507812 323.878906 L 200.175781 328.703125 L 195.847656 333.542969 L 191.515625 338.394531 L 187.183594 343.265625 L 182.855469 348.152344 L 178.523438 353.054688 L 174.195312 357.976562 L 169.863281 362.917969 L 165.53125 367.875 L 161.203125 372.851562 L 156.871094 377.847656 L 152.539062 382.859375 L 148.210938 387.890625 L 143.878906 392.9375 L 139.550781 398 L 135.21875 403.078125 L 130.886719 408.167969 L 126.558594 413.277344 L 122.226562 418.394531 L 117.898438 423.527344 L 113.566406 428.671875 L 109.234375 433.824219 L 104.90625 438.988281 L 100.574219 444.160156 Z \"/>\n",
       "<path style=\"fill:none;stroke-width:1.062992;stroke-linecap:butt;stroke-linejoin:round;stroke:rgb(20%,40%,100%);stroke-opacity:1;stroke-miterlimit:1;\" d=\"M 91.914062 445.679688 L 96.246094 440.722656 L 100.574219 435.761719 L 104.90625 430.804688 L 109.234375 425.84375 L 113.566406 420.882812 L 117.898438 415.925781 L 122.226562 410.964844 L 126.558594 406.007812 L 130.886719 401.046875 L 135.21875 396.089844 L 139.550781 391.128906 L 143.878906 386.167969 L 148.210938 381.210938 L 152.539062 376.25 L 156.871094 371.292969 L 161.203125 366.332031 L 165.53125 361.375 L 169.863281 356.414062 L 174.195312 351.457031 L 178.523438 346.496094 L 182.855469 341.535156 L 187.183594 336.578125 L 191.515625 331.617188 L 195.847656 326.660156 L 200.175781 321.699219 L 204.507812 316.742188 L 208.835938 311.78125 L 213.167969 306.824219 L 217.5 301.863281 L 221.828125 296.902344 L 226.160156 291.945312 L 230.488281 286.984375 L 234.820312 282.027344 L 239.152344 277.066406 L 243.480469 272.109375 L 247.8125 267.148438 L 252.140625 262.1875 L 256.472656 257.230469 L 260.804688 252.269531 L 265.132812 247.3125 L 269.464844 242.351562 L 273.792969 237.394531 L 278.125 232.433594 L 282.457031 227.476562 L 286.785156 222.515625 L 291.117188 217.554688 L 295.449219 212.597656 L 299.777344 207.636719 L 304.109375 202.679688 L 308.4375 197.71875 L 312.769531 192.761719 L 317.101562 187.800781 L 321.429688 182.839844 L 325.761719 177.882812 L 330.089844 172.921875 L 334.421875 167.964844 L 338.753906 163.003906 L 343.082031 158.046875 L 347.414062 153.085938 L 351.742188 148.128906 L 360.40625 138.207031 L 364.734375 133.25 L 369.066406 128.289062 L 373.394531 123.332031 L 377.726562 118.371094 L 382.058594 113.414062 L 386.386719 108.453125 L 390.71875 103.492188 L 395.046875 98.535156 L 399.378906 93.574219 L 403.710938 88.617188 L 408.039062 83.65625 L 412.371094 78.699219 L 416.703125 73.738281 \"/>\n",
       "<g style=\"fill:rgb(49.803922%,49.803922%,49.803922%);fill-opacity:1;\">\n",
       "  <use xlink:href=\"#glyph0-1\" x=\"44.398438\" y=\"457.112305\"/>\n",
       "</g>\n",
       "<g style=\"fill:rgb(49.803922%,49.803922%,49.803922%);fill-opacity:1;\">\n",
       "  <use xlink:href=\"#glyph0-2\" x=\"28.398438\" y=\"344.631836\"/>\n",
       "  <use xlink:href=\"#glyph0-1\" x=\"33.732422\" y=\"344.631836\"/>\n",
       "  <use xlink:href=\"#glyph0-1\" x=\"39.066406\" y=\"344.631836\"/>\n",
       "  <use xlink:href=\"#glyph0-1\" x=\"44.400391\" y=\"344.631836\"/>\n",
       "</g>\n",
       "<g style=\"fill:rgb(49.803922%,49.803922%,49.803922%);fill-opacity:1;\">\n",
       "  <use xlink:href=\"#glyph0-3\" x=\"23.398438\" y=\"232.147461\"/>\n",
       "  <use xlink:href=\"#glyph0-1\" x=\"28.732422\" y=\"232.147461\"/>\n",
       "  <use xlink:href=\"#glyph0-1\" x=\"34.066406\" y=\"232.147461\"/>\n",
       "  <use xlink:href=\"#glyph0-1\" x=\"39.400391\" y=\"232.147461\"/>\n",
       "  <use xlink:href=\"#glyph0-1\" x=\"44.734375\" y=\"232.147461\"/>\n",
       "</g>\n",
       "<g style=\"fill:rgb(49.803922%,49.803922%,49.803922%);fill-opacity:1;\">\n",
       "  <use xlink:href=\"#glyph0-3\" x=\"23.398438\" y=\"119.666992\"/>\n",
       "  <use xlink:href=\"#glyph0-2\" x=\"28.732422\" y=\"119.666992\"/>\n",
       "  <use xlink:href=\"#glyph0-1\" x=\"34.066406\" y=\"119.666992\"/>\n",
       "  <use xlink:href=\"#glyph0-1\" x=\"39.400391\" y=\"119.666992\"/>\n",
       "  <use xlink:href=\"#glyph0-1\" x=\"44.734375\" y=\"119.666992\"/>\n",
       "</g>\n",
       "<path style=\"fill:none;stroke-width:1.062992;stroke-linecap:butt;stroke-linejoin:round;stroke:rgb(49.803922%,49.803922%,49.803922%);stroke-opacity:1;stroke-miterlimit:10;\" d=\"M 53.234375 454.464844 L 57.488281 454.464844 \"/>\n",
       "<path style=\"fill:none;stroke-width:1.062992;stroke-linecap:butt;stroke-linejoin:round;stroke:rgb(49.803922%,49.803922%,49.803922%);stroke-opacity:1;stroke-miterlimit:10;\" d=\"M 53.234375 341.984375 L 57.488281 341.984375 \"/>\n",
       "<path style=\"fill:none;stroke-width:1.062992;stroke-linecap:butt;stroke-linejoin:round;stroke:rgb(49.803922%,49.803922%,49.803922%);stroke-opacity:1;stroke-miterlimit:10;\" d=\"M 53.234375 229.5 L 57.488281 229.5 \"/>\n",
       "<path style=\"fill:none;stroke-width:1.062992;stroke-linecap:butt;stroke-linejoin:round;stroke:rgb(49.803922%,49.803922%,49.803922%);stroke-opacity:1;stroke-miterlimit:10;\" d=\"M 53.234375 117.019531 L 57.488281 117.019531 \"/>\n",
       "<path style=\"fill:none;stroke-width:1.062992;stroke-linecap:butt;stroke-linejoin:round;stroke:rgb(49.803922%,49.803922%,49.803922%);stroke-opacity:1;stroke-miterlimit:10;\" d=\"M 117.160156 470.765625 L 117.160156 466.511719 \"/>\n",
       "<path style=\"fill:none;stroke-width:1.062992;stroke-linecap:butt;stroke-linejoin:round;stroke:rgb(49.803922%,49.803922%,49.803922%);stroke-opacity:1;stroke-miterlimit:10;\" d=\"M 195.984375 470.765625 L 195.984375 466.511719 \"/>\n",
       "<path style=\"fill:none;stroke-width:1.062992;stroke-linecap:butt;stroke-linejoin:round;stroke:rgb(49.803922%,49.803922%,49.803922%);stroke-opacity:1;stroke-miterlimit:10;\" d=\"M 274.8125 470.765625 L 274.8125 466.511719 \"/>\n",
       "<path style=\"fill:none;stroke-width:1.062992;stroke-linecap:butt;stroke-linejoin:round;stroke:rgb(49.803922%,49.803922%,49.803922%);stroke-opacity:1;stroke-miterlimit:10;\" d=\"M 353.640625 470.765625 L 353.640625 466.511719 \"/>\n",
       "<path style=\"fill:none;stroke-width:1.062992;stroke-linecap:butt;stroke-linejoin:round;stroke:rgb(49.803922%,49.803922%,49.803922%);stroke-opacity:1;stroke-miterlimit:10;\" d=\"M 432.464844 470.765625 L 432.464844 466.511719 \"/>\n",
       "<g style=\"fill:rgb(49.803922%,49.803922%,49.803922%);fill-opacity:1;\">\n",
       "  <use xlink:href=\"#glyph0-1\" x=\"110.160156\" y=\"479.749023\"/>\n",
       "  <use xlink:href=\"#glyph0-4\" x=\"115.494141\" y=\"479.749023\"/>\n",
       "  <use xlink:href=\"#glyph0-2\" x=\"118.161133\" y=\"479.749023\"/>\n",
       "</g>\n",
       "<g style=\"fill:rgb(49.803922%,49.803922%,49.803922%);fill-opacity:1;\">\n",
       "  <use xlink:href=\"#glyph0-3\" x=\"188.984375\" y=\"479.749023\"/>\n",
       "  <use xlink:href=\"#glyph0-4\" x=\"194.318359\" y=\"479.749023\"/>\n",
       "  <use xlink:href=\"#glyph0-1\" x=\"196.985352\" y=\"479.749023\"/>\n",
       "</g>\n",
       "<g style=\"fill:rgb(49.803922%,49.803922%,49.803922%);fill-opacity:1;\">\n",
       "  <use xlink:href=\"#glyph0-3\" x=\"267.8125\" y=\"479.749023\"/>\n",
       "  <use xlink:href=\"#glyph0-4\" x=\"273.146484\" y=\"479.749023\"/>\n",
       "  <use xlink:href=\"#glyph0-2\" x=\"275.813477\" y=\"479.749023\"/>\n",
       "</g>\n",
       "<g style=\"fill:rgb(49.803922%,49.803922%,49.803922%);fill-opacity:1;\">\n",
       "  <use xlink:href=\"#glyph0-5\" x=\"346.640625\" y=\"479.749023\"/>\n",
       "  <use xlink:href=\"#glyph0-4\" x=\"351.974609\" y=\"479.749023\"/>\n",
       "  <use xlink:href=\"#glyph0-1\" x=\"354.641602\" y=\"479.749023\"/>\n",
       "</g>\n",
       "<g style=\"fill:rgb(49.803922%,49.803922%,49.803922%);fill-opacity:1;\">\n",
       "  <use xlink:href=\"#glyph0-5\" x=\"425.464844\" y=\"479.749023\"/>\n",
       "  <use xlink:href=\"#glyph0-4\" x=\"430.798828\" y=\"479.749023\"/>\n",
       "  <use xlink:href=\"#glyph0-2\" x=\"433.46582\" y=\"479.749023\"/>\n",
       "</g>\n",
       "<g style=\"fill:rgb(0%,0%,0%);fill-opacity:1;\">\n",
       "  <use xlink:href=\"#glyph1-1\" x=\"223.148438\" y=\"492.634766\"/>\n",
       "  <use xlink:href=\"#glyph1-2\" x=\"232.484375\" y=\"492.634766\"/>\n",
       "  <use xlink:href=\"#glyph1-3\" x=\"239.15625\" y=\"492.634766\"/>\n",
       "  <use xlink:href=\"#glyph1-4\" x=\"241.820312\" y=\"492.634766\"/>\n",
       "  <use xlink:href=\"#glyph1-5\" x=\"244.484375\" y=\"492.634766\"/>\n",
       "  <use xlink:href=\"#glyph1-6\" x=\"251.15625\" y=\"492.634766\"/>\n",
       "  <use xlink:href=\"#glyph1-7\" x=\"254.492188\" y=\"492.634766\"/>\n",
       "  <use xlink:href=\"#glyph1-8\" x=\"261.164062\" y=\"492.634766\"/>\n",
       "</g>\n",
       "<g style=\"fill:rgb(0%,0%,0%);fill-opacity:1;\">\n",
       "  <use xlink:href=\"#glyph2-1\" x=\"19.236328\" y=\"257.957031\"/>\n",
       "  <use xlink:href=\"#glyph2-2\" x=\"19.236328\" y=\"249.953125\"/>\n",
       "  <use xlink:href=\"#glyph2-3\" x=\"19.236328\" y=\"245.957031\"/>\n",
       "  <use xlink:href=\"#glyph2-4\" x=\"19.236328\" y=\"239.285156\"/>\n",
       "  <use xlink:href=\"#glyph2-5\" x=\"19.236328\" y=\"233.285156\"/>\n",
       "  <use xlink:href=\"#glyph2-6\" x=\"19.236328\" y=\"230.621094\"/>\n",
       "</g>\n",
       "<path style=\" stroke:none;fill-rule:nonzero;fill:rgb(100%,100%,100%);fill-opacity:1;\" d=\"M 443.839844 310.9375 L 479.5625 310.9375 L 479.5625 169.972656 L 443.839844 169.972656 Z \"/>\n",
       "<g style=\"fill:rgb(0%,0%,0%);fill-opacity:1;\">\n",
       "  <use xlink:href=\"#glyph3-1\" x=\"448.09375\" y=\"180.713867\"/>\n",
       "  <use xlink:href=\"#glyph3-2\" x=\"453.427734\" y=\"180.713867\"/>\n",
       "  <use xlink:href=\"#glyph3-3\" x=\"459.289062\" y=\"180.713867\"/>\n",
       "  <use xlink:href=\"#glyph3-2\" x=\"461.956055\" y=\"180.713867\"/>\n",
       "  <use xlink:href=\"#glyph3-4\" x=\"467.817383\" y=\"180.713867\"/>\n",
       "</g>\n",
       "<path style=\"fill-rule:nonzero;fill:rgb(94.901961%,94.901961%,94.901961%);fill-opacity:1;stroke-width:1.062992;stroke-linecap:round;stroke-linejoin:round;stroke:rgb(100%,100%,100%);stroke-opacity:1;stroke-miterlimit:10;\" d=\"M 448.09375 203.007812 L 465.375 203.007812 L 465.375 185.726562 L 448.09375 185.726562 Z \"/>\n",
       "<path style=\" stroke:none;fill-rule:nonzero;fill:rgb(97.254902%,46.27451%,42.745098%);fill-opacity:1;\" d=\"M 458.859375 194.367188 C 458.859375 197.203125 454.605469 197.203125 454.605469 194.367188 C 454.605469 191.53125 458.859375 191.53125 458.859375 194.367188 \"/>\n",
       "<path style=\" stroke:none;fill-rule:nonzero;fill:rgb(60%,60%,60%);fill-opacity:0.4;\" d=\"M 448.09375 203.007812 L 465.375 203.007812 L 465.375 185.726562 L 448.09375 185.726562 Z \"/>\n",
       "<path style=\"fill:none;stroke-width:1.062992;stroke-linecap:butt;stroke-linejoin:round;stroke:rgb(97.254902%,46.27451%,42.745098%);stroke-opacity:1;stroke-miterlimit:10;\" d=\"M 449.820312 194.367188 L 463.644531 194.367188 \"/>\n",
       "<path style=\"fill-rule:nonzero;fill:rgb(94.901961%,94.901961%,94.901961%);fill-opacity:1;stroke-width:1.062992;stroke-linecap:round;stroke-linejoin:round;stroke:rgb(100%,100%,100%);stroke-opacity:1;stroke-miterlimit:10;\" d=\"M 448.09375 220.285156 L 465.375 220.285156 L 465.375 203.003906 L 448.09375 203.003906 Z \"/>\n",
       "<path style=\" stroke:none;fill-rule:nonzero;fill:rgb(76.862745%,60.392157%,0%);fill-opacity:1;\" d=\"M 458.859375 211.648438 C 458.859375 214.480469 454.605469 214.480469 454.605469 211.648438 C 454.605469 208.8125 458.859375 208.8125 458.859375 211.648438 \"/>\n",
       "<path style=\" stroke:none;fill-rule:nonzero;fill:rgb(60%,60%,60%);fill-opacity:0.4;\" d=\"M 448.09375 220.285156 L 465.375 220.285156 L 465.375 203.003906 L 448.09375 203.003906 Z \"/>\n",
       "<path style=\"fill:none;stroke-width:1.062992;stroke-linecap:butt;stroke-linejoin:round;stroke:rgb(76.862745%,60.392157%,0%);stroke-opacity:1;stroke-miterlimit:10;\" d=\"M 449.820312 211.648438 L 463.644531 211.648438 \"/>\n",
       "<path style=\"fill-rule:nonzero;fill:rgb(94.901961%,94.901961%,94.901961%);fill-opacity:1;stroke-width:1.062992;stroke-linecap:round;stroke-linejoin:round;stroke:rgb(100%,100%,100%);stroke-opacity:1;stroke-miterlimit:10;\" d=\"M 448.09375 237.566406 L 465.375 237.566406 L 465.375 220.285156 L 448.09375 220.285156 Z \"/>\n",
       "<path style=\" stroke:none;fill-rule:nonzero;fill:rgb(32.54902%,70.588235%,0%);fill-opacity:1;\" d=\"M 458.859375 228.925781 C 458.859375 231.761719 454.605469 231.761719 454.605469 228.925781 C 454.605469 226.09375 458.859375 226.09375 458.859375 228.925781 \"/>\n",
       "<path style=\" stroke:none;fill-rule:nonzero;fill:rgb(60%,60%,60%);fill-opacity:0.4;\" d=\"M 448.09375 237.566406 L 465.375 237.566406 L 465.375 220.285156 L 448.09375 220.285156 Z \"/>\n",
       "<path style=\"fill:none;stroke-width:1.062992;stroke-linecap:butt;stroke-linejoin:round;stroke:rgb(32.54902%,70.588235%,0%);stroke-opacity:1;stroke-miterlimit:10;\" d=\"M 449.820312 228.925781 L 463.644531 228.925781 \"/>\n",
       "<path style=\"fill-rule:nonzero;fill:rgb(94.901961%,94.901961%,94.901961%);fill-opacity:1;stroke-width:1.062992;stroke-linecap:round;stroke-linejoin:round;stroke:rgb(100%,100%,100%);stroke-opacity:1;stroke-miterlimit:10;\" d=\"M 448.09375 254.847656 L 465.375 254.847656 L 465.375 237.566406 L 448.09375 237.566406 Z \"/>\n",
       "<path style=\" stroke:none;fill-rule:nonzero;fill:rgb(0%,75.294118%,58.039216%);fill-opacity:1;\" d=\"M 458.859375 246.207031 C 458.859375 249.042969 454.605469 249.042969 454.605469 246.207031 C 454.605469 243.371094 458.859375 243.371094 458.859375 246.207031 \"/>\n",
       "<path style=\" stroke:none;fill-rule:nonzero;fill:rgb(60%,60%,60%);fill-opacity:0.4;\" d=\"M 448.09375 254.847656 L 465.375 254.847656 L 465.375 237.566406 L 448.09375 237.566406 Z \"/>\n",
       "<path style=\"fill:none;stroke-width:1.062992;stroke-linecap:butt;stroke-linejoin:round;stroke:rgb(0%,75.294118%,58.039216%);stroke-opacity:1;stroke-miterlimit:10;\" d=\"M 449.820312 246.207031 L 463.644531 246.207031 \"/>\n",
       "<path style=\"fill-rule:nonzero;fill:rgb(94.901961%,94.901961%,94.901961%);fill-opacity:1;stroke-width:1.062992;stroke-linecap:round;stroke-linejoin:round;stroke:rgb(100%,100%,100%);stroke-opacity:1;stroke-miterlimit:10;\" d=\"M 448.09375 272.125 L 465.375 272.125 L 465.375 254.84375 L 448.09375 254.84375 Z \"/>\n",
       "<path style=\" stroke:none;fill-rule:nonzero;fill:rgb(0%,71.372549%,92.156863%);fill-opacity:1;\" d=\"M 458.859375 263.488281 C 458.859375 266.320312 454.605469 266.320312 454.605469 263.488281 C 454.605469 260.652344 458.859375 260.652344 458.859375 263.488281 \"/>\n",
       "<path style=\" stroke:none;fill-rule:nonzero;fill:rgb(60%,60%,60%);fill-opacity:0.4;\" d=\"M 448.09375 272.125 L 465.375 272.125 L 465.375 254.84375 L 448.09375 254.84375 Z \"/>\n",
       "<path style=\"fill:none;stroke-width:1.062992;stroke-linecap:butt;stroke-linejoin:round;stroke:rgb(0%,71.372549%,92.156863%);stroke-opacity:1;stroke-miterlimit:10;\" d=\"M 449.820312 263.488281 L 463.644531 263.488281 \"/>\n",
       "<path style=\"fill-rule:nonzero;fill:rgb(94.901961%,94.901961%,94.901961%);fill-opacity:1;stroke-width:1.062992;stroke-linecap:round;stroke-linejoin:round;stroke:rgb(100%,100%,100%);stroke-opacity:1;stroke-miterlimit:10;\" d=\"M 448.09375 289.40625 L 465.375 289.40625 L 465.375 272.125 L 448.09375 272.125 Z \"/>\n",
       "<path style=\" stroke:none;fill-rule:nonzero;fill:rgb(64.705882%,54.117647%,100%);fill-opacity:1;\" d=\"M 458.859375 280.765625 C 458.859375 283.601562 454.605469 283.601562 454.605469 280.765625 C 454.605469 277.933594 458.859375 277.933594 458.859375 280.765625 \"/>\n",
       "<path style=\" stroke:none;fill-rule:nonzero;fill:rgb(60%,60%,60%);fill-opacity:0.4;\" d=\"M 448.09375 289.40625 L 465.375 289.40625 L 465.375 272.125 L 448.09375 272.125 Z \"/>\n",
       "<path style=\"fill:none;stroke-width:1.062992;stroke-linecap:butt;stroke-linejoin:round;stroke:rgb(64.705882%,54.117647%,100%);stroke-opacity:1;stroke-miterlimit:10;\" d=\"M 449.820312 280.765625 L 463.644531 280.765625 \"/>\n",
       "<path style=\"fill-rule:nonzero;fill:rgb(94.901961%,94.901961%,94.901961%);fill-opacity:1;stroke-width:1.062992;stroke-linecap:round;stroke-linejoin:round;stroke:rgb(100%,100%,100%);stroke-opacity:1;stroke-miterlimit:10;\" d=\"M 448.09375 306.6875 L 465.375 306.6875 L 465.375 289.40625 L 448.09375 289.40625 Z \"/>\n",
       "<path style=\" stroke:none;fill-rule:nonzero;fill:rgb(98.431373%,38.039216%,84.313725%);fill-opacity:1;\" d=\"M 458.859375 298.046875 C 458.859375 300.882812 454.605469 300.882812 454.605469 298.046875 C 454.605469 295.210938 458.859375 295.210938 458.859375 298.046875 \"/>\n",
       "<path style=\" stroke:none;fill-rule:nonzero;fill:rgb(60%,60%,60%);fill-opacity:0.4;\" d=\"M 448.09375 306.6875 L 465.375 306.6875 L 465.375 289.40625 L 448.09375 289.40625 Z \"/>\n",
       "<path style=\"fill:none;stroke-width:1.062992;stroke-linecap:butt;stroke-linejoin:round;stroke:rgb(98.431373%,38.039216%,84.313725%);stroke-opacity:1;stroke-miterlimit:10;\" d=\"M 449.820312 298.046875 L 463.644531 298.046875 \"/>\n",
       "<g style=\"fill:rgb(0%,0%,0%);fill-opacity:1;\">\n",
       "  <use xlink:href=\"#glyph0-6\" x=\"467.535156\" y=\"197.014648\"/>\n",
       "</g>\n",
       "<g style=\"fill:rgb(0%,0%,0%);fill-opacity:1;\">\n",
       "  <use xlink:href=\"#glyph0-7\" x=\"467.535156\" y=\"214.295898\"/>\n",
       "</g>\n",
       "<g style=\"fill:rgb(0%,0%,0%);fill-opacity:1;\">\n",
       "  <use xlink:href=\"#glyph0-8\" x=\"467.535156\" y=\"231.573242\"/>\n",
       "</g>\n",
       "<g style=\"fill:rgb(0%,0%,0%);fill-opacity:1;\">\n",
       "  <use xlink:href=\"#glyph0-9\" x=\"467.535156\" y=\"248.854492\"/>\n",
       "</g>\n",
       "<g style=\"fill:rgb(0%,0%,0%);fill-opacity:1;\">\n",
       "  <use xlink:href=\"#glyph0-10\" x=\"467.535156\" y=\"266.135742\"/>\n",
       "</g>\n",
       "<g style=\"fill:rgb(0%,0%,0%);fill-opacity:1;\">\n",
       "  <use xlink:href=\"#glyph0-11\" x=\"467.535156\" y=\"283.413086\"/>\n",
       "</g>\n",
       "<g style=\"fill:rgb(0%,0%,0%);fill-opacity:1;\">\n",
       "  <use xlink:href=\"#glyph0-12\" x=\"467.535156\" y=\"300.694336\"/>\n",
       "</g>\n",
       "</g>\n",
       "</svg>\n"
      ],
      "text/plain": [
       "plot without title"
      ]
     },
     "metadata": {
      "image/svg+xml": {
       "isolated": true
      }
     },
     "output_type": "display_data"
    }
   ],
   "source": [
    "grafica + geom_point() + xlab('Quilates') + ylab('Precio') + xlim(caremin, caremax) + ylim(pricemin, pricemax) + geom_smooth(method = 'lm', formula=y~x, aes(group=1))"
   ]
  },
  {
   "cell_type": "code",
   "execution_count": null,
   "metadata": {
    "collapsed": true
   },
   "outputs": [],
   "source": []
  }
 ],
 "metadata": {
  "kernelspec": {
   "display_name": "R",
   "language": "R",
   "name": "ir"
  },
  "language_info": {
   "codemirror_mode": "r",
   "file_extension": ".r",
   "mimetype": "text/x-r-source",
   "name": "R",
   "pygments_lexer": "r",
   "version": "3.2.2"
  }
 },
 "nbformat": 4,
 "nbformat_minor": 0
}
